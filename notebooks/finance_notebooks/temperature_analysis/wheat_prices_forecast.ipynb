{
 "cells": [
  {
   "cell_type": "code",
   "execution_count": 182,
   "metadata": {},
   "outputs": [],
   "source": [
    "import pandas as pd\n",
    "import xgboost as xgb\n",
    "from sklearn.metrics import mean_squared_error\n"
   ]
  },
  {
   "cell_type": "markdown",
   "metadata": {},
   "source": [
    "Step 1: download wheat price data"
   ]
  },
  {
   "cell_type": "code",
   "execution_count": 640,
   "metadata": {},
   "outputs": [
    {
     "data": {
      "text/html": [
       "<div>\n",
       "<style scoped>\n",
       "    .dataframe tbody tr th:only-of-type {\n",
       "        vertical-align: middle;\n",
       "    }\n",
       "\n",
       "    .dataframe tbody tr th {\n",
       "        vertical-align: top;\n",
       "    }\n",
       "\n",
       "    .dataframe thead th {\n",
       "        text-align: right;\n",
       "    }\n",
       "</style>\n",
       "<table border=\"1\" class=\"dataframe\">\n",
       "  <thead>\n",
       "    <tr style=\"text-align: right;\">\n",
       "      <th></th>\n",
       "      <th>Date</th>\n",
       "      <th>Close/Last</th>\n",
       "      <th>Volume</th>\n",
       "      <th>Open</th>\n",
       "      <th>High</th>\n",
       "      <th>Low</th>\n",
       "    </tr>\n",
       "  </thead>\n",
       "  <tbody>\n",
       "    <tr>\n",
       "      <th>0</th>\n",
       "      <td>06/07/2024</td>\n",
       "      <td>627.50</td>\n",
       "      <td>118856</td>\n",
       "      <td>639.50</td>\n",
       "      <td>639.50</td>\n",
       "      <td>618.25</td>\n",
       "    </tr>\n",
       "    <tr>\n",
       "      <th>1</th>\n",
       "      <td>06/06/2024</td>\n",
       "      <td>639.50</td>\n",
       "      <td>78701</td>\n",
       "      <td>649.75</td>\n",
       "      <td>654.00</td>\n",
       "      <td>638.25</td>\n",
       "    </tr>\n",
       "    <tr>\n",
       "      <th>2</th>\n",
       "      <td>06/05/2024</td>\n",
       "      <td>646.75</td>\n",
       "      <td>79122</td>\n",
       "      <td>659.25</td>\n",
       "      <td>664.25</td>\n",
       "      <td>642.75</td>\n",
       "    </tr>\n",
       "    <tr>\n",
       "      <th>3</th>\n",
       "      <td>06/04/2024</td>\n",
       "      <td>658.25</td>\n",
       "      <td>77793</td>\n",
       "      <td>672.50</td>\n",
       "      <td>681.25</td>\n",
       "      <td>657.75</td>\n",
       "    </tr>\n",
       "    <tr>\n",
       "      <th>4</th>\n",
       "      <td>06/03/2024</td>\n",
       "      <td>672.75</td>\n",
       "      <td>80772</td>\n",
       "      <td>678.00</td>\n",
       "      <td>697.75</td>\n",
       "      <td>667.50</td>\n",
       "    </tr>\n",
       "    <tr>\n",
       "      <th>5</th>\n",
       "      <td>05/31/2024</td>\n",
       "      <td>678.50</td>\n",
       "      <td>51136</td>\n",
       "      <td>680.50</td>\n",
       "      <td>691.50</td>\n",
       "      <td>673.75</td>\n",
       "    </tr>\n",
       "    <tr>\n",
       "      <th>6</th>\n",
       "      <td>05/30/2024</td>\n",
       "      <td>681.00</td>\n",
       "      <td>65871</td>\n",
       "      <td>682.25</td>\n",
       "      <td>685.00</td>\n",
       "      <td>673.25</td>\n",
       "    </tr>\n",
       "    <tr>\n",
       "      <th>7</th>\n",
       "      <td>05/29/2024</td>\n",
       "      <td>692.75</td>\n",
       "      <td>60524</td>\n",
       "      <td>701.50</td>\n",
       "      <td>706.25</td>\n",
       "      <td>688.50</td>\n",
       "    </tr>\n",
       "    <tr>\n",
       "      <th>8</th>\n",
       "      <td>05/28/2024</td>\n",
       "      <td>700.25</td>\n",
       "      <td>68850</td>\n",
       "      <td>713.00</td>\n",
       "      <td>720.00</td>\n",
       "      <td>693.75</td>\n",
       "    </tr>\n",
       "    <tr>\n",
       "      <th>9</th>\n",
       "      <td>05/24/2024</td>\n",
       "      <td>697.25</td>\n",
       "      <td>65113</td>\n",
       "      <td>701.25</td>\n",
       "      <td>706.00</td>\n",
       "      <td>689.00</td>\n",
       "    </tr>\n",
       "  </tbody>\n",
       "</table>\n",
       "</div>"
      ],
      "text/plain": [
       "         Date  Close/Last  Volume    Open    High     Low\n",
       "0  06/07/2024      627.50  118856  639.50  639.50  618.25\n",
       "1  06/06/2024      639.50   78701  649.75  654.00  638.25\n",
       "2  06/05/2024      646.75   79122  659.25  664.25  642.75\n",
       "3  06/04/2024      658.25   77793  672.50  681.25  657.75\n",
       "4  06/03/2024      672.75   80772  678.00  697.75  667.50\n",
       "5  05/31/2024      678.50   51136  680.50  691.50  673.75\n",
       "6  05/30/2024      681.00   65871  682.25  685.00  673.25\n",
       "7  05/29/2024      692.75   60524  701.50  706.25  688.50\n",
       "8  05/28/2024      700.25   68850  713.00  720.00  693.75\n",
       "9  05/24/2024      697.25   65113  701.25  706.00  689.00"
      ]
     },
     "execution_count": 640,
     "metadata": {},
     "output_type": "execute_result"
    }
   ],
   "source": [
    "# https://www.nasdaq.com/market-activity/commodities/zw/historical?page=1&rows_per_page=10&timeline=y5\n",
    "# https://www.cmegroup.com/markets/agriculture/grains/wheat.html\n",
    "\n",
    "# US$ cents per bushel\n",
    "# 5k bushels per contract\n",
    "wheat_prices = pd.read_csv('wheat_historical_data.csv')\n",
    "wheat_prices.head(10)"
   ]
  },
  {
   "cell_type": "code",
   "execution_count": 641,
   "metadata": {},
   "outputs": [],
   "source": [
    "wheat_prices['datetime'] = pd.to_datetime(wheat_prices['Date'], format='%m/%d/%Y')\n",
    "wheat_prices = wheat_prices.set_index('datetime')\n",
    "wheat_prices['price'] = wheat_prices['Close/Last']\n",
    "wheat_prices = wheat_prices[['price']].sort_index()"
   ]
  },
  {
   "cell_type": "code",
   "execution_count": 642,
   "metadata": {},
   "outputs": [
    {
     "data": {
      "text/plain": [
       "<Axes: xlabel='datetime'>"
      ]
     },
     "execution_count": 642,
     "metadata": {},
     "output_type": "execute_result"
    },
    {
     "data": {
      "image/png": "[encoded data removed]",
      "text/plain": [
       "<Figure size 640x480 with 1 Axes>"
      ]
     },
     "metadata": {},
     "output_type": "display_data"
    }
   ],
   "source": [
    "wheat_prices.plot()"
   ]
  },
  {
   "cell_type": "code",
   "execution_count": 186,
   "metadata": {},
   "outputs": [
    {
     "data": {
      "text/plain": [
       "array([[<Axes: title={'center': 'price'}>]], dtype=object)"
      ]
     },
     "execution_count": 186,
     "metadata": {},
     "output_type": "execute_result"
    },
    {
     "data": {
      "image/png": "[encoded data removed]",
      "text/plain": [
       "<Figure size 640x480 with 1 Axes>"
      ]
     },
     "metadata": {},
     "output_type": "display_data"
    }
   ],
   "source": [
    "wheat_prices.pct_change(5).dropna().hist()"
   ]
  },
  {
   "cell_type": "markdown",
   "metadata": {},
   "source": [
    "Step 2: build some features to form a dataset"
   ]
  },
  {
   "cell_type": "code",
   "execution_count": 187,
   "metadata": {},
   "outputs": [],
   "source": [
    "# we will build features using precipitations data, \n",
    "# temperature data and simple technical indicators\n",
    "# the target will be weekly returns\n",
    "historical_temperatures = pd.read_parquet('historical_temperatures.parquet')\n",
    "historical_precipitations = pd.read_parquet('historical_precipitations.parquet')"
   ]
  },
  {
   "cell_type": "code",
   "execution_count": 188,
   "metadata": {},
   "outputs": [],
   "source": [
    "# https://www.procurementresource.com/blog/wheat-producing-regions-in-the-usa\n",
    "relevant_states = ['ND', 'KS', 'WA', 'MT', 'ID']\n",
    "historical_temperatures = historical_temperatures.loc[historical_temperatures['state'].isin(relevant_states)]\n",
    "historical_precipitations = historical_precipitations.loc[historical_precipitations['state'].isin(relevant_states)]"
   ]
  },
  {
   "cell_type": "code",
   "execution_count": 189,
   "metadata": {},
   "outputs": [],
   "source": [
    "# just my guess!\n",
    "historical_temperatures = historical_temperatures.loc[historical_temperatures['elevation'] < 1000]\n",
    "historical_precipitations = historical_precipitations.loc[historical_precipitations['elevation'] < 1000]"
   ]
  },
  {
   "cell_type": "code",
   "execution_count": 190,
   "metadata": {},
   "outputs": [],
   "source": [
    "historical_temperatures['TMAX_diff_365'] = historical_temperatures.groupby('id')['TMAX'].diff(365)\n",
    "tmax_diff_365_by_state = historical_temperatures.groupby(['datetime', 'state'])['TMAX_diff_365'].mean().unstack()\n",
    "\n",
    "historical_temperatures['TMIN_diff_365'] = historical_temperatures.groupby('id')['TMIN'].diff(365)\n",
    "tmin_diff_365_by_state = historical_temperatures.groupby(['datetime', 'state'])['TMIN_diff_365'].mean().unstack()\n",
    "\n",
    "\n",
    "historical_precipitations['precip_diff_365'] = historical_precipitations.groupby('id')['no_info'].diff(365)\n",
    "precip_diff_365_by_state = historical_precipitations.groupby(['datetime', 'state'])['precip_diff_365'].mean().unstack()"
   ]
  },
  {
   "cell_type": "code",
   "execution_count": 811,
   "metadata": {},
   "outputs": [],
   "source": [
    "target = wheat_prices.pct_change(5).shift(-5).dropna().sort_index()"
   ]
  },
  {
   "cell_type": "code",
   "execution_count": 812,
   "metadata": {},
   "outputs": [],
   "source": [
    "dataset = target.join(\n",
    "    tmax_diff_365_by_state, how='left').join(tmin_diff_365_by_state, how='left', rsuffix='_temp_min', lsuffix='_temp_max').join(\n",
    "        tmin_diff_365_by_state, how='left'\n",
    "    ).dropna()"
   ]
  },
  {
   "cell_type": "code",
   "execution_count": 813,
   "metadata": {},
   "outputs": [],
   "source": [
    "dataset = target.join(\n",
    "    pd.DataFrame({'temperature': ((historical_temperatures['TMAX'] + historical_temperatures['TMIN']) / 2).unstack().mean(axis=1).diff(365)})\n",
    ").join(\n",
    "    pd.DataFrame({'precipitation': historical_precipitations['no_info'].unstack().mean(axis=1).diff(365)})\n",
    "                  ).dropna()"
   ]
  },
  {
   "cell_type": "code",
   "execution_count": 814,
   "metadata": {},
   "outputs": [],
   "source": [
    "dataset = dataset['2021-01-02':]"
   ]
  },
  {
   "cell_type": "code",
   "execution_count": 815,
   "metadata": {},
   "outputs": [
    {
     "data": {
      "text/html": [
       "<div>\n",
       "<style scoped>\n",
       "    .dataframe tbody tr th:only-of-type {\n",
       "        vertical-align: middle;\n",
       "    }\n",
       "\n",
       "    .dataframe tbody tr th {\n",
       "        vertical-align: top;\n",
       "    }\n",
       "\n",
       "    .dataframe thead th {\n",
       "        text-align: right;\n",
       "    }\n",
       "</style>\n",
       "<table border=\"1\" class=\"dataframe\">\n",
       "  <thead>\n",
       "    <tr style=\"text-align: right;\">\n",
       "      <th></th>\n",
       "      <th>price</th>\n",
       "      <th>temperature</th>\n",
       "      <th>precipitation</th>\n",
       "    </tr>\n",
       "    <tr>\n",
       "      <th>datetime</th>\n",
       "      <th></th>\n",
       "      <th></th>\n",
       "      <th></th>\n",
       "    </tr>\n",
       "  </thead>\n",
       "  <tbody>\n",
       "    <tr>\n",
       "      <th>2021-01-04</th>\n",
       "      <td>-0.011293</td>\n",
       "      <td>4.937093</td>\n",
       "      <td>-56.254291</td>\n",
       "    </tr>\n",
       "    <tr>\n",
       "      <th>2021-01-05</th>\n",
       "      <td>0.016820</td>\n",
       "      <td>3.606531</td>\n",
       "      <td>-7.103227</td>\n",
       "    </tr>\n",
       "    <tr>\n",
       "      <th>2021-01-06</th>\n",
       "      <td>0.020077</td>\n",
       "      <td>2.467434</td>\n",
       "      <td>18.976717</td>\n",
       "    </tr>\n",
       "    <tr>\n",
       "      <th>2021-01-07</th>\n",
       "      <td>0.043207</td>\n",
       "      <td>0.348497</td>\n",
       "      <td>-32.143093</td>\n",
       "    </tr>\n",
       "    <tr>\n",
       "      <th>2021-01-08</th>\n",
       "      <td>0.057534</td>\n",
       "      <td>-1.850710</td>\n",
       "      <td>-92.859437</td>\n",
       "    </tr>\n",
       "    <tr>\n",
       "      <th>...</th>\n",
       "      <td>...</td>\n",
       "      <td>...</td>\n",
       "      <td>...</td>\n",
       "    </tr>\n",
       "    <tr>\n",
       "      <th>2024-05-24</th>\n",
       "      <td>-0.035138</td>\n",
       "      <td>-0.488794</td>\n",
       "      <td>19.603311</td>\n",
       "    </tr>\n",
       "    <tr>\n",
       "      <th>2024-05-28</th>\n",
       "      <td>-0.059979</td>\n",
       "      <td>3.201306</td>\n",
       "      <td>-7.385679</td>\n",
       "    </tr>\n",
       "    <tr>\n",
       "      <th>2024-05-29</th>\n",
       "      <td>-0.066402</td>\n",
       "      <td>2.145268</td>\n",
       "      <td>-8.235971</td>\n",
       "    </tr>\n",
       "    <tr>\n",
       "      <th>2024-05-30</th>\n",
       "      <td>-0.060940</td>\n",
       "      <td>1.564575</td>\n",
       "      <td>19.495024</td>\n",
       "    </tr>\n",
       "    <tr>\n",
       "      <th>2024-05-31</th>\n",
       "      <td>-0.075166</td>\n",
       "      <td>0.085517</td>\n",
       "      <td>-24.084674</td>\n",
       "    </tr>\n",
       "  </tbody>\n",
       "</table>\n",
       "<p>858 rows × 3 columns</p>\n",
       "</div>"
      ],
      "text/plain": [
       "               price  temperature  precipitation\n",
       "datetime                                        \n",
       "2021-01-04 -0.011293     4.937093     -56.254291\n",
       "2021-01-05  0.016820     3.606531      -7.103227\n",
       "2021-01-06  0.020077     2.467434      18.976717\n",
       "2021-01-07  0.043207     0.348497     -32.143093\n",
       "2021-01-08  0.057534    -1.850710     -92.859437\n",
       "...              ...          ...            ...\n",
       "2024-05-24 -0.035138    -0.488794      19.603311\n",
       "2024-05-28 -0.059979     3.201306      -7.385679\n",
       "2024-05-29 -0.066402     2.145268      -8.235971\n",
       "2024-05-30 -0.060940     1.564575      19.495024\n",
       "2024-05-31 -0.075166     0.085517     -24.084674\n",
       "\n",
       "[858 rows x 3 columns]"
      ]
     },
     "execution_count": 815,
     "metadata": {},
     "output_type": "execute_result"
    }
   ],
   "source": [
    "dataset"
   ]
  },
  {
   "cell_type": "code",
   "execution_count": 816,
   "metadata": {},
   "outputs": [],
   "source": [
    "end_in_sample_date = '2023-06-30'\n",
    "start_out_of_sample_date = '2023-10-01'"
   ]
  },
  {
   "cell_type": "code",
   "execution_count": 817,
   "metadata": {},
   "outputs": [
    {
     "data": {
      "text/html": [
       "<div>\n",
       "<style scoped>\n",
       "    .dataframe tbody tr th:only-of-type {\n",
       "        vertical-align: middle;\n",
       "    }\n",
       "\n",
       "    .dataframe tbody tr th {\n",
       "        vertical-align: top;\n",
       "    }\n",
       "\n",
       "    .dataframe thead th {\n",
       "        text-align: right;\n",
       "    }\n",
       "</style>\n",
       "<table border=\"1\" class=\"dataframe\">\n",
       "  <thead>\n",
       "    <tr style=\"text-align: right;\">\n",
       "      <th></th>\n",
       "      <th>price</th>\n",
       "      <th>temperature</th>\n",
       "      <th>precipitation</th>\n",
       "    </tr>\n",
       "  </thead>\n",
       "  <tbody>\n",
       "    <tr>\n",
       "      <th>price</th>\n",
       "      <td>1.000000</td>\n",
       "      <td>0.021732</td>\n",
       "      <td>0.010354</td>\n",
       "    </tr>\n",
       "    <tr>\n",
       "      <th>temperature</th>\n",
       "      <td>0.021732</td>\n",
       "      <td>1.000000</td>\n",
       "      <td>0.090731</td>\n",
       "    </tr>\n",
       "    <tr>\n",
       "      <th>precipitation</th>\n",
       "      <td>0.010354</td>\n",
       "      <td>0.090731</td>\n",
       "      <td>1.000000</td>\n",
       "    </tr>\n",
       "  </tbody>\n",
       "</table>\n",
       "</div>"
      ],
      "text/plain": [
       "                  price  temperature  precipitation\n",
       "price          1.000000     0.021732       0.010354\n",
       "temperature    0.021732     1.000000       0.090731\n",
       "precipitation  0.010354     0.090731       1.000000"
      ]
     },
     "execution_count": 817,
     "metadata": {},
     "output_type": "execute_result"
    }
   ],
   "source": [
    "dataset[:end_in_sample_date].corr()"
   ]
  },
  {
   "cell_type": "markdown",
   "metadata": {},
   "source": [
    "Step 3: fit the model"
   ]
  },
  {
   "cell_type": "code",
   "execution_count": 818,
   "metadata": {},
   "outputs": [],
   "source": [
    "# we will try to predict the raw returns first (regression)\n",
    "# and then the binned returns \n",
    "# (i.e. bin 1 = negative returns, bin 2 = around zero, bin 3 = positive returns)\n",
    "# we will use an xgboost and a linear regression as a benchmark"
   ]
  },
  {
   "cell_type": "code",
   "execution_count": 819,
   "metadata": {},
   "outputs": [],
   "source": [
    "X = dataset.drop(columns='price')\n",
    "y = dataset['price'].copy()"
   ]
  },
  {
   "cell_type": "code",
   "execution_count": 820,
   "metadata": {},
   "outputs": [],
   "source": [
    "#idx_pos = y > 0.02\n",
    "#idx_neg = y < - 0.02\n",
    "#\n",
    "#y.loc[:] = 1\n",
    "#y.loc[idx_pos] = 2\n",
    "#y.loc[idx_neg] = 0\n",
    "#\n",
    "#y = y.astype(int)\n",
    "\n",
    "y = (y > 0).astype(int)"
   ]
  },
  {
   "cell_type": "code",
   "execution_count": 821,
   "metadata": {},
   "outputs": [],
   "source": [
    "X_train = X[:end_in_sample_date].copy()\n",
    "X_test = X[start_out_of_sample_date:].copy()\n",
    "y_train = y[:end_in_sample_date].copy()\n",
    "y_test = y[start_out_of_sample_date:].copy()\n"
   ]
  },
  {
   "cell_type": "code",
   "execution_count": 822,
   "metadata": {},
   "outputs": [],
   "source": [
    "from sklearn.neural_network import MLPClassifier, MLPRegressor\n"
   ]
  },
  {
   "cell_type": "code",
   "execution_count": 823,
   "metadata": {},
   "outputs": [],
   "source": [
    "regr = MLPClassifier(random_state=1, max_iter=5000, hidden_layer_sizes=(10, 10, 10)).fit(X_train, y_train)\n",
    "\n",
    "y_pred = regr.predict(X_test.dropna())"
   ]
  },
  {
   "cell_type": "code",
   "execution_count": 824,
   "metadata": {},
   "outputs": [
    {
     "data": {
      "text/plain": [
       "array([0, 0, 1, 0, 0, 0, 0, 1, 0, 0, 0, 0, 0, 0, 0, 0, 0, 1, 1, 0, 1, 1,\n",
       "       0, 1, 1, 0, 0, 0, 0, 1, 0, 0, 0, 0, 0, 1, 0, 0, 1, 1, 0, 1, 0, 0,\n",
       "       1, 1, 0, 1, 1, 1, 1, 1, 0, 0, 1, 0, 0, 0, 1, 1, 1, 0, 0, 0, 0, 0,\n",
       "       0, 0, 1, 0, 1, 0, 0, 0, 0, 0, 0, 0, 0, 0, 0, 0, 0, 0, 0, 0, 0, 0,\n",
       "       0, 0, 0, 0, 0, 0, 0, 0, 0, 1, 0, 0, 0, 0, 1, 1, 0, 0, 0, 1, 0, 1,\n",
       "       0, 0, 0, 0, 0, 0, 0, 1, 0, 0, 1, 0, 0, 0, 0, 0, 0, 0, 0, 0, 0, 0,\n",
       "       0, 0, 0, 1, 0, 0, 1, 0, 0, 0, 0, 1, 0, 1, 0, 0, 0, 0, 1, 0, 0, 0,\n",
       "       0, 0, 0, 1, 0, 1, 0, 1, 0, 0, 0, 0, 0, 0])"
      ]
     },
     "execution_count": 824,
     "metadata": {},
     "output_type": "execute_result"
    }
   ],
   "source": [
    "y_pred"
   ]
  },
  {
   "cell_type": "code",
   "execution_count": 825,
   "metadata": {},
   "outputs": [
    {
     "data": {
      "text/plain": [
       "array([1, 0, 0, 0, 1, 1, 1, 1, 1, 1, 1, 1, 0, 0, 0, 0, 0, 0, 0, 0, 1, 1,\n",
       "       1, 1, 1, 1, 1, 0, 1, 1, 0, 0, 0, 0, 0, 1, 1, 1, 1, 1, 1, 1, 1, 1,\n",
       "       0, 0, 0, 0, 0, 1, 0, 1, 0, 0, 1, 1, 1, 1, 0, 0, 0, 0, 0, 1, 1, 0,\n",
       "       0, 0, 0, 0, 0, 1, 1, 1, 1, 1, 0, 1, 0, 0, 0, 0, 0, 1, 0, 0, 1, 1,\n",
       "       0, 0, 0, 0, 0, 0, 1, 1, 1, 0, 0, 0, 0, 0, 0, 0, 0, 0, 0, 1, 1, 0,\n",
       "       0, 1, 1, 1, 1, 1, 0, 1, 1, 1, 0, 1, 1, 1, 1, 1, 1, 1, 1, 1, 1, 0,\n",
       "       0, 0, 1, 1, 1, 1, 1, 1, 1, 0, 0, 1, 1, 1, 1, 1, 1, 1, 1, 1, 1, 0,\n",
       "       1, 1, 1, 1, 1, 1, 0, 0, 0, 0, 0, 0, 0, 0])"
      ]
     },
     "execution_count": 825,
     "metadata": {},
     "output_type": "execute_result"
    }
   ],
   "source": [
    "y_test.values"
   ]
  },
  {
   "cell_type": "code",
   "execution_count": 826,
   "metadata": {},
   "outputs": [],
   "source": [
    "#mean_squared_error(y_test, y_pred)"
   ]
  },
  {
   "cell_type": "code",
   "execution_count": 827,
   "metadata": {},
   "outputs": [
    {
     "name": "stdout",
     "output_type": "stream",
     "text": [
      "              precision    recall  f1-score   support\n",
      "\n",
      "           0       0.46      0.76      0.58        78\n",
      "           1       0.54      0.24      0.34        90\n",
      "\n",
      "    accuracy                           0.48       168\n",
      "   macro avg       0.50      0.50      0.46       168\n",
      "weighted avg       0.50      0.48      0.45       168\n",
      "\n"
     ]
    }
   ],
   "source": [
    "from sklearn.metrics import classification_report, confusion_matrix\n",
    "\n",
    "print(classification_report(y_test, y_pred))"
   ]
  },
  {
   "cell_type": "code",
   "execution_count": null,
   "metadata": {},
   "outputs": [],
   "source": []
  }
 ],
 "metadata": {
  "kernelspec": {
   "display_name": "Python 3",
   "language": "python",
   "name": "python3"
  },
  "language_info": {
   "codemirror_mode": {
    "name": "ipython",
    "version": 3
   },
   "file_extension": ".py",
   "mimetype": "text/x-python",
   "name": "python",
   "nbconvert_exporter": "python",
   "pygments_lexer": "ipython3",
   "version": "3.8.6"
  }
 },
 "nbformat": 4,
 "nbformat_minor": 2
}
