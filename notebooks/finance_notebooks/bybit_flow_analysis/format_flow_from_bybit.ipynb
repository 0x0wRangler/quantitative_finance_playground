{
 "cells": [
  {
   "cell_type": "markdown",
   "metadata": {},
   "source": [
    "This notebook shows how to format order book data (data category \"OB Data\") downloaded from https://www.bybit.com/derivatives/en/history-data"
   ]
  },
  {
   "cell_type": "code",
   "execution_count": 25,
   "metadata": {},
   "outputs": [],
   "source": [
    "import pandas as pd\n",
    "import json\n",
    "import matplotlib.pyplot as plt\n",
    "from tqdm import tqdm\n",
    "import numpy as np\n"
   ]
  },
  {
   "cell_type": "code",
   "execution_count": 26,
   "metadata": {},
   "outputs": [
    {
     "name": "stdout",
     "output_type": "stream",
     "text": [
      "863839\n"
     ]
    }
   ],
   "source": [
    "# file name\n",
    "flow_file = '2024-09-03_BTCUSDT_ob500.txt'\n",
    "\n",
    "\n",
    "# read the number of rows in file\n",
    "def number_of_rows(file_path):\n",
    "    with open(file_path, 'r') as file:\n",
    "        rows = file.readlines()\n",
    "        return len(rows)\n",
    "\n",
    "# maximum number of rows\n",
    "max_n_of_rows = number_of_rows(flow_file)\n",
    "print(max_n_of_rows)\n"
   ]
  },
  {
   "cell_type": "code",
   "execution_count": 27,
   "metadata": {},
   "outputs": [
    {
     "data": {
      "text/plain": [
       "864000"
      ]
     },
     "execution_count": 27,
     "metadata": {},
     "output_type": "execute_result"
    }
   ],
   "source": [
    "# number of datapoints in a day\n",
    "60 * 60 * 24 * 10"
   ]
  },
  {
   "cell_type": "code",
   "execution_count": 28,
   "metadata": {},
   "outputs": [],
   "source": [
    "# number of rows of file to process\n",
    "rows_to_process = 10000\n",
    "\n",
    "# maximum bid and ask depth\n",
    "max_depth = 20\n",
    "\n",
    "rows_to_process = min(rows_to_process, max_n_of_rows)"
   ]
  },
  {
   "cell_type": "code",
   "execution_count": 29,
   "metadata": {},
   "outputs": [],
   "source": [
    "def read_data(flow_file):\n",
    "    dict_a = {} # dictionary with ask data\n",
    "    dict_b = {} # dictionary with bid data\n",
    "\n",
    "    # read row by row the txt file\n",
    "    with open(flow_file, 'r') as file:\n",
    "        for n in tqdm(range(rows_to_process)):\n",
    "\n",
    "            riga = file.readline()\n",
    "            riga = riga.strip().strip(\"'\")\n",
    "            obj = json.loads(riga) # it's a json object\n",
    "\n",
    "            # get the data\n",
    "            ts = obj['ts']\n",
    "            a = obj['data']['a']\n",
    "            b = obj['data']['b']\n",
    "\n",
    "            # if data is empty continue\n",
    "            if (not a) or (not b):\n",
    "                continue\n",
    "            \n",
    "            # populate the dictionaries\n",
    "            dict_a[ts] = a[:max_depth]\n",
    "            dict_b[ts] = b[:max_depth]\n",
    "\n",
    "    return dict_a, dict_b\n",
    "\n",
    "\n",
    "def build_order_flow_dataframe(dict_a, dict_b):\n",
    "\n",
    "    def format_df(dictionary):\n",
    "        # build a dataframe from dictionary\n",
    "        df = pd.DataFrame(pd.DataFrame().from_dict(dictionary, orient='index').stack())\n",
    "\n",
    "        df = pd.DataFrame(df[0].tolist(), index=df.index)\n",
    "        df = df.rename(columns={0: 'price', 1: 'volume'})\n",
    "\n",
    "        return df\n",
    "    \n",
    "    ask_df = format_df(dict_a)\n",
    "    ask_df['side'] = 'ask'\n",
    "\n",
    "    bid_df = format_df(dict_b)\n",
    "    bid_df['side'] = 'bid'\n",
    "\n",
    "    flow_df = pd.concat([ask_df, bid_df])\n",
    "    flow_df = flow_df.reset_index()\n",
    "    flow_df['level_0'] = pd.to_datetime(flow_df['level_0'], unit='ms')\n",
    "    flow_df = flow_df.rename(columns={'level_0': 'time', 'level_1': 'level'})\n",
    "\n",
    "    flow_df = flow_df.set_index(['time', 'side', 'level'])\n",
    "    flow_df = flow_df.sort_index()\n",
    "\n",
    "    flow_df['price'] = flow_df['price'].astype(float)\n",
    "    flow_df['volume'] = flow_df['volume'].astype(float)\n",
    "\n",
    "    return flow_df\n",
    "\n",
    "\n",
    "def plot_order_book(df):\n",
    "    # sort to prepare to cumsum the volumes\n",
    "    bid_data = df.loc['bid'].sort_values(by='price', ascending=False)\n",
    "    ask_data = df.loc['ask'].sort_values(by='price', ascending=True)\n",
    "\n",
    "    # cumulative volumes\n",
    "    bid_data['cumulative_volume'] = bid_data['volume'].cumsum()\n",
    "    ask_data['cumulative_volume'] = ask_data['volume'].cumsum()\n",
    "\n",
    "    # useful to fill price gaps\n",
    "    price_range_bid = np.linspace(bid_data['price'].max(), bid_data['price'].min(),\n",
    "                                num=int(round(bid_data['price'].max() - bid_data['price'].min(), 1) * 10) + 1)\n",
    "\n",
    "    price_range_ask = np.linspace(ask_data['price'].min(), ask_data['price'].max(),\n",
    "                                num=int(round(ask_data['price'].max() - ask_data['price'].min(), 1) * 10) + 1)\n",
    "\n",
    "    # sort again the bid data\n",
    "    bid_data = bid_data.sort_index(ascending=True)\n",
    "\n",
    "\n",
    "    fig = plt.figure()\n",
    "\n",
    "    # build a dataframe for each cum volume, in order to fill the gaps\n",
    "    cum_vol_bid = pd.DataFrame({'price': price_range_bid}).set_index('price').join(\n",
    "        bid_data.set_index('price')['cumulative_volume'], how='left').ffill()\n",
    "\n",
    "    cum_vol_ask = pd.DataFrame({'price': price_range_ask}).set_index('price').join(\n",
    "        ask_data.set_index('price')['cumulative_volume'], how='left').ffill()\n",
    "\n",
    "    # now plot\n",
    "    plt.figure(figsize=(10, 6))\n",
    "\n",
    "    # bid\n",
    "    plt.plot(cum_vol_bid.index, cum_vol_bid['cumulative_volume'], color='green', label='Bid')\n",
    "    plt.fill_between(cum_vol_bid.index, cum_vol_bid['cumulative_volume'], color='green', alpha=0.3)\n",
    "\n",
    "    # ask\n",
    "    plt.plot(cum_vol_ask.index, cum_vol_ask['cumulative_volume'], color='red', label='Ask')\n",
    "    plt.fill_between(cum_vol_ask.index, cum_vol_ask['cumulative_volume'], color='red', alpha=0.3)\n",
    "\n",
    "    # labels and title\n",
    "    plt.ylabel('Cumulative Volume [BTC]')\n",
    "    plt.xlabel('Price [USDT]')\n",
    "    plt.title('Market Depth')\n",
    "    plt.legend()\n",
    "\n",
    "    plt.show()"
   ]
  },
  {
   "cell_type": "code",
   "execution_count": 30,
   "metadata": {},
   "outputs": [
    {
     "name": "stderr",
     "output_type": "stream",
     "text": [
      "100%|██████████| 10000/10000 [00:01<00:00, 7998.38it/s]\n"
     ]
    }
   ],
   "source": [
    "dict_a, dict_b = read_data(flow_file)\n",
    "flow_df = build_order_flow_dataframe(dict_a, dict_b)"
   ]
  },
  {
   "cell_type": "code",
   "execution_count": 31,
   "metadata": {},
   "outputs": [
    {
     "data": {
      "text/html": [
       "<div>\n",
       "<style scoped>\n",
       "    .dataframe tbody tr th:only-of-type {\n",
       "        vertical-align: middle;\n",
       "    }\n",
       "\n",
       "    .dataframe tbody tr th {\n",
       "        vertical-align: top;\n",
       "    }\n",
       "\n",
       "    .dataframe thead th {\n",
       "        text-align: right;\n",
       "    }\n",
       "</style>\n",
       "<table border=\"1\" class=\"dataframe\">\n",
       "  <thead>\n",
       "    <tr style=\"text-align: right;\">\n",
       "      <th></th>\n",
       "      <th></th>\n",
       "      <th></th>\n",
       "      <th>price</th>\n",
       "      <th>volume</th>\n",
       "    </tr>\n",
       "    <tr>\n",
       "      <th>time</th>\n",
       "      <th>side</th>\n",
       "      <th>level</th>\n",
       "      <th></th>\n",
       "      <th></th>\n",
       "    </tr>\n",
       "  </thead>\n",
       "  <tbody>\n",
       "    <tr>\n",
       "      <th rowspan=\"5\" valign=\"top\">2024-09-03 00:00:01.755</th>\n",
       "      <th rowspan=\"5\" valign=\"top\">ask</th>\n",
       "      <th>0</th>\n",
       "      <td>59116.8</td>\n",
       "      <td>6.618</td>\n",
       "    </tr>\n",
       "    <tr>\n",
       "      <th>1</th>\n",
       "      <td>59117.1</td>\n",
       "      <td>0.001</td>\n",
       "    </tr>\n",
       "    <tr>\n",
       "      <th>2</th>\n",
       "      <td>59117.2</td>\n",
       "      <td>0.017</td>\n",
       "    </tr>\n",
       "    <tr>\n",
       "      <th>3</th>\n",
       "      <td>59117.3</td>\n",
       "      <td>0.002</td>\n",
       "    </tr>\n",
       "    <tr>\n",
       "      <th>4</th>\n",
       "      <td>59117.6</td>\n",
       "      <td>0.050</td>\n",
       "    </tr>\n",
       "  </tbody>\n",
       "</table>\n",
       "</div>"
      ],
      "text/plain": [
       "                                      price  volume\n",
       "time                    side level                 \n",
       "2024-09-03 00:00:01.755 ask  0      59116.8   6.618\n",
       "                             1      59117.1   0.001\n",
       "                             2      59117.2   0.017\n",
       "                             3      59117.3   0.002\n",
       "                             4      59117.6   0.050"
      ]
     },
     "execution_count": 31,
     "metadata": {},
     "output_type": "execute_result"
    }
   ],
   "source": [
    "flow_df.head()"
   ]
  },
  {
   "cell_type": "code",
   "execution_count": 32,
   "metadata": {},
   "outputs": [
    {
     "data": {
      "text/plain": [
       "<Figure size 640x480 with 0 Axes>"
      ]
     },
     "metadata": {},
     "output_type": "display_data"
    },
    {
     "data": {
      "image/png": "[encoded data removed]",
      "text/plain": [
       "<Figure size 1000x600 with 1 Axes>"
      ]
     },
     "metadata": {},
     "output_type": "display_data"
    }
   ],
   "source": [
    "plot_order_book(flow_df.loc[flow_df.index.get_level_values('time')[0]])"
   ]
  },
  {
   "cell_type": "code",
   "execution_count": null,
   "metadata": {},
   "outputs": [],
   "source": []
  }
 ],
 "metadata": {
  "kernelspec": {
   "display_name": "Python 3",
   "language": "python",
   "name": "python3"
  },
  "language_info": {
   "codemirror_mode": {
    "name": "ipython",
    "version": 3
   },
   "file_extension": ".py",
   "mimetype": "text/x-python",
   "name": "python",
   "nbconvert_exporter": "python",
   "pygments_lexer": "ipython3",
   "version": "3.8.6"
  }
 },
 "nbformat": 4,
 "nbformat_minor": 2
}
