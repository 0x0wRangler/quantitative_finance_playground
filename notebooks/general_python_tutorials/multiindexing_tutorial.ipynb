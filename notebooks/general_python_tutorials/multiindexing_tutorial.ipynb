{
 "cells": [
  {
   "cell_type": "code",
   "execution_count": 72,
   "metadata": {},
   "outputs": [],
   "source": [
    "import yfinance as yf\n",
    "import pandas as pd\n",
    "import matplotlib.pyplot as plt\n",
    "\n",
    "def get_price(ticker, start, end, interval='1d'):\n",
    "    \"\"\"interval : str\n",
    "            Valid intervals: 1m,2m,5m,15m,30m,60m,90m,1h,1d,5d,1wk,1mo,3mo\n",
    "            Intraday data cannot extend last 60 days\n",
    "    \"\"\"\n",
    "    return yf.download(ticker, start=start, end=end, interval=interval, auto_adjust=True, progress=False)\n"
   ]
  },
  {
   "cell_type": "markdown",
   "metadata": {},
   "source": [
    "Step 1: download single stock data and format it"
   ]
  },
  {
   "cell_type": "code",
   "execution_count": 2,
   "metadata": {},
   "outputs": [
    {
     "data": {
      "text/html": [
       "<div>\n",
       "<style scoped>\n",
       "    .dataframe tbody tr th:only-of-type {\n",
       "        vertical-align: middle;\n",
       "    }\n",
       "\n",
       "    .dataframe tbody tr th {\n",
       "        vertical-align: top;\n",
       "    }\n",
       "\n",
       "    .dataframe thead th {\n",
       "        text-align: right;\n",
       "    }\n",
       "</style>\n",
       "<table border=\"1\" class=\"dataframe\">\n",
       "  <thead>\n",
       "    <tr style=\"text-align: right;\">\n",
       "      <th></th>\n",
       "      <th>Open</th>\n",
       "      <th>High</th>\n",
       "      <th>Low</th>\n",
       "      <th>Close</th>\n",
       "      <th>Volume</th>\n",
       "    </tr>\n",
       "    <tr>\n",
       "      <th>Date</th>\n",
       "      <th></th>\n",
       "      <th></th>\n",
       "      <th></th>\n",
       "      <th></th>\n",
       "      <th></th>\n",
       "    </tr>\n",
       "  </thead>\n",
       "  <tbody>\n",
       "    <tr>\n",
       "      <th>2024-01-02</th>\n",
       "      <td>186.658310</td>\n",
       "      <td>187.944930</td>\n",
       "      <td>183.406880</td>\n",
       "      <td>185.152283</td>\n",
       "      <td>82488700</td>\n",
       "    </tr>\n",
       "    <tr>\n",
       "      <th>2024-01-03</th>\n",
       "      <td>183.736010</td>\n",
       "      <td>185.391653</td>\n",
       "      <td>182.948077</td>\n",
       "      <td>183.765930</td>\n",
       "      <td>58414500</td>\n",
       "    </tr>\n",
       "    <tr>\n",
       "      <th>2024-01-04</th>\n",
       "      <td>181.671458</td>\n",
       "      <td>182.608991</td>\n",
       "      <td>180.404806</td>\n",
       "      <td>181.432098</td>\n",
       "      <td>71983600</td>\n",
       "    </tr>\n",
       "    <tr>\n",
       "      <th>2024-01-05</th>\n",
       "      <td>181.511879</td>\n",
       "      <td>182.279846</td>\n",
       "      <td>179.696654</td>\n",
       "      <td>180.703995</td>\n",
       "      <td>62303300</td>\n",
       "    </tr>\n",
       "    <tr>\n",
       "      <th>2024-01-08</th>\n",
       "      <td>181.611610</td>\n",
       "      <td>185.112398</td>\n",
       "      <td>181.023163</td>\n",
       "      <td>185.072495</td>\n",
       "      <td>59144500</td>\n",
       "    </tr>\n",
       "  </tbody>\n",
       "</table>\n",
       "</div>"
      ],
      "text/plain": [
       "                  Open        High         Low       Close    Volume\n",
       "Date                                                                \n",
       "2024-01-02  186.658310  187.944930  183.406880  185.152283  82488700\n",
       "2024-01-03  183.736010  185.391653  182.948077  183.765930  58414500\n",
       "2024-01-04  181.671458  182.608991  180.404806  181.432098  71983600\n",
       "2024-01-05  181.511879  182.279846  179.696654  180.703995  62303300\n",
       "2024-01-08  181.611610  185.112398  181.023163  185.072495  59144500"
      ]
     },
     "execution_count": 2,
     "metadata": {},
     "output_type": "execute_result"
    }
   ],
   "source": [
    "# Apple prices from yahoo\n",
    "# end of day data, the index is Data\n",
    "# it is a datetime index with frequency None\n",
    "apple_EOD_prices = get_price(ticker='AAPL', start='2024-01-01', end='2024-05-18', interval='1d')\n",
    "apple_EOD_prices.head()"
   ]
  },
  {
   "cell_type": "code",
   "execution_count": 3,
   "metadata": {},
   "outputs": [
    {
     "data": {
      "text/plain": [
       "<BusinessDay>"
      ]
     },
     "execution_count": 3,
     "metadata": {},
     "output_type": "execute_result"
    }
   ],
   "source": [
    "# now resample with frequence Business days. The function asfreq() will \n",
    "# leave NaNs in days without data. You could use some other functions like ffill().\n",
    "# NEVER use bfill() in timeseries, since it will use future data to fill past data.\n",
    "# this leads to a look forward bias\n",
    "apple_EOD_prices = apple_EOD_prices.resample('B').asfreq()\n",
    "apple_EOD_prices.index.freq"
   ]
  },
  {
   "cell_type": "markdown",
   "metadata": {},
   "source": [
    "Step 2: download some other stocks and merge the dataframes"
   ]
  },
  {
   "cell_type": "code",
   "execution_count": 4,
   "metadata": {},
   "outputs": [],
   "source": [
    "# download prices for Microsoft and Nvidia\n",
    "microsoft_EOD_prices = get_price(ticker='MSFT', start='2024-01-01', end='2024-05-18', interval='1d')\n",
    "nvidia_EOD_prices = get_price(ticker='NVDA', start='2024-01-01', end='2024-05-18', interval='1d')"
   ]
  },
  {
   "cell_type": "code",
   "execution_count": 5,
   "metadata": {},
   "outputs": [],
   "source": [
    "# format index to business days\n",
    "microsoft_EOD_prices = microsoft_EOD_prices.resample('B').asfreq()\n",
    "nvidia_EOD_prices = nvidia_EOD_prices.resample('B').asfreq()"
   ]
  },
  {
   "cell_type": "code",
   "execution_count": 6,
   "metadata": {},
   "outputs": [
    {
     "data": {
      "text/html": [
       "<div>\n",
       "<style scoped>\n",
       "    .dataframe tbody tr th:only-of-type {\n",
       "        vertical-align: middle;\n",
       "    }\n",
       "\n",
       "    .dataframe tbody tr th {\n",
       "        vertical-align: top;\n",
       "    }\n",
       "\n",
       "    .dataframe thead th {\n",
       "        text-align: right;\n",
       "    }\n",
       "</style>\n",
       "<table border=\"1\" class=\"dataframe\">\n",
       "  <thead>\n",
       "    <tr style=\"text-align: right;\">\n",
       "      <th></th>\n",
       "      <th>Open</th>\n",
       "      <th>High</th>\n",
       "      <th>Low</th>\n",
       "      <th>Close</th>\n",
       "      <th>Volume</th>\n",
       "      <th>Asset</th>\n",
       "    </tr>\n",
       "    <tr>\n",
       "      <th>Date</th>\n",
       "      <th></th>\n",
       "      <th></th>\n",
       "      <th></th>\n",
       "      <th></th>\n",
       "      <th></th>\n",
       "      <th></th>\n",
       "    </tr>\n",
       "  </thead>\n",
       "  <tbody>\n",
       "    <tr>\n",
       "      <th>2024-01-02</th>\n",
       "      <td>186.658310</td>\n",
       "      <td>187.944930</td>\n",
       "      <td>183.406880</td>\n",
       "      <td>185.152283</td>\n",
       "      <td>82488700.0</td>\n",
       "      <td>AAPL</td>\n",
       "    </tr>\n",
       "    <tr>\n",
       "      <th>2024-01-02</th>\n",
       "      <td>492.416915</td>\n",
       "      <td>492.926901</td>\n",
       "      <td>475.927698</td>\n",
       "      <td>481.657410</td>\n",
       "      <td>41125400.0</td>\n",
       "      <td>NVDA</td>\n",
       "    </tr>\n",
       "    <tr>\n",
       "      <th>2024-01-02</th>\n",
       "      <td>372.498019</td>\n",
       "      <td>374.530595</td>\n",
       "      <td>365.433851</td>\n",
       "      <td>369.518921</td>\n",
       "      <td>25258600.0</td>\n",
       "      <td>MSFT</td>\n",
       "    </tr>\n",
       "    <tr>\n",
       "      <th>2024-01-03</th>\n",
       "      <td>183.736010</td>\n",
       "      <td>185.391653</td>\n",
       "      <td>182.948077</td>\n",
       "      <td>183.765930</td>\n",
       "      <td>58414500.0</td>\n",
       "      <td>AAPL</td>\n",
       "    </tr>\n",
       "    <tr>\n",
       "      <th>2024-01-03</th>\n",
       "      <td>474.827737</td>\n",
       "      <td>481.817400</td>\n",
       "      <td>473.177821</td>\n",
       "      <td>475.667694</td>\n",
       "      <td>32089600.0</td>\n",
       "      <td>NVDA</td>\n",
       "    </tr>\n",
       "    <tr>\n",
       "      <th>2024-01-03</th>\n",
       "      <td>367.665704</td>\n",
       "      <td>371.900222</td>\n",
       "      <td>367.167526</td>\n",
       "      <td>369.249908</td>\n",
       "      <td>23083500.0</td>\n",
       "      <td>MSFT</td>\n",
       "    </tr>\n",
       "  </tbody>\n",
       "</table>\n",
       "</div>"
      ],
      "text/plain": [
       "                  Open        High         Low       Close      Volume Asset\n",
       "Date                                                                        \n",
       "2024-01-02  186.658310  187.944930  183.406880  185.152283  82488700.0  AAPL\n",
       "2024-01-02  492.416915  492.926901  475.927698  481.657410  41125400.0  NVDA\n",
       "2024-01-02  372.498019  374.530595  365.433851  369.518921  25258600.0  MSFT\n",
       "2024-01-03  183.736010  185.391653  182.948077  183.765930  58414500.0  AAPL\n",
       "2024-01-03  474.827737  481.817400  473.177821  475.667694  32089600.0  NVDA\n",
       "2024-01-03  367.665704  371.900222  367.167526  369.249908  23083500.0  MSFT"
      ]
     },
     "execution_count": 6,
     "metadata": {},
     "output_type": "execute_result"
    }
   ],
   "source": [
    "# let us now merge the data to get a dataframe containing all prices for all stocks\n",
    "# in order to do this we will add a column to each dataframe called 'Asset' with stock name\n",
    "# then we will concatenate the dataframes and then manipulate the indexes\n",
    "\n",
    "apple_EOD_prices['Asset'] = 'AAPL'\n",
    "microsoft_EOD_prices['Asset'] = 'MSFT'\n",
    "nvidia_EOD_prices['Asset'] = 'NVDA'\n",
    "\n",
    "# since all dataframes have the same indexes and columns we can do this\n",
    "prices_df = pd.concat([apple_EOD_prices, microsoft_EOD_prices, nvidia_EOD_prices])\n",
    "prices_df.sort_index().head(6)\n",
    "\n",
    "# you can notice that now we have a dataframe indexed by Date, with frequency 'B',\n",
    "# and with coulmns open high low close volume. The addidional column Asset is useful\n",
    "# to keep track of what stock we are referring to."
   ]
  },
  {
   "cell_type": "code",
   "execution_count": 7,
   "metadata": {},
   "outputs": [
    {
     "data": {
      "text/html": [
       "<div>\n",
       "<style scoped>\n",
       "    .dataframe tbody tr th:only-of-type {\n",
       "        vertical-align: middle;\n",
       "    }\n",
       "\n",
       "    .dataframe tbody tr th {\n",
       "        vertical-align: top;\n",
       "    }\n",
       "\n",
       "    .dataframe thead th {\n",
       "        text-align: right;\n",
       "    }\n",
       "</style>\n",
       "<table border=\"1\" class=\"dataframe\">\n",
       "  <thead>\n",
       "    <tr style=\"text-align: right;\">\n",
       "      <th></th>\n",
       "      <th></th>\n",
       "      <th>Open</th>\n",
       "      <th>High</th>\n",
       "      <th>Low</th>\n",
       "      <th>Close</th>\n",
       "      <th>Volume</th>\n",
       "    </tr>\n",
       "    <tr>\n",
       "      <th>Date</th>\n",
       "      <th>Asset</th>\n",
       "      <th></th>\n",
       "      <th></th>\n",
       "      <th></th>\n",
       "      <th></th>\n",
       "      <th></th>\n",
       "    </tr>\n",
       "  </thead>\n",
       "  <tbody>\n",
       "    <tr>\n",
       "      <th rowspan=\"3\" valign=\"top\">2024-01-02</th>\n",
       "      <th>AAPL</th>\n",
       "      <td>186.658310</td>\n",
       "      <td>187.944930</td>\n",
       "      <td>183.406880</td>\n",
       "      <td>185.152283</td>\n",
       "      <td>82488700.0</td>\n",
       "    </tr>\n",
       "    <tr>\n",
       "      <th>MSFT</th>\n",
       "      <td>372.498019</td>\n",
       "      <td>374.530595</td>\n",
       "      <td>365.433851</td>\n",
       "      <td>369.518921</td>\n",
       "      <td>25258600.0</td>\n",
       "    </tr>\n",
       "    <tr>\n",
       "      <th>NVDA</th>\n",
       "      <td>492.416915</td>\n",
       "      <td>492.926901</td>\n",
       "      <td>475.927698</td>\n",
       "      <td>481.657410</td>\n",
       "      <td>41125400.0</td>\n",
       "    </tr>\n",
       "    <tr>\n",
       "      <th rowspan=\"3\" valign=\"top\">2024-01-03</th>\n",
       "      <th>AAPL</th>\n",
       "      <td>183.736010</td>\n",
       "      <td>185.391653</td>\n",
       "      <td>182.948077</td>\n",
       "      <td>183.765930</td>\n",
       "      <td>58414500.0</td>\n",
       "    </tr>\n",
       "    <tr>\n",
       "      <th>MSFT</th>\n",
       "      <td>367.665704</td>\n",
       "      <td>371.900222</td>\n",
       "      <td>367.167526</td>\n",
       "      <td>369.249908</td>\n",
       "      <td>23083500.0</td>\n",
       "    </tr>\n",
       "    <tr>\n",
       "      <th>NVDA</th>\n",
       "      <td>474.827737</td>\n",
       "      <td>481.817400</td>\n",
       "      <td>473.177821</td>\n",
       "      <td>475.667694</td>\n",
       "      <td>32089600.0</td>\n",
       "    </tr>\n",
       "  </tbody>\n",
       "</table>\n",
       "</div>"
      ],
      "text/plain": [
       "                        Open        High         Low       Close      Volume\n",
       "Date       Asset                                                            \n",
       "2024-01-02 AAPL   186.658310  187.944930  183.406880  185.152283  82488700.0\n",
       "           MSFT   372.498019  374.530595  365.433851  369.518921  25258600.0\n",
       "           NVDA   492.416915  492.926901  475.927698  481.657410  41125400.0\n",
       "2024-01-03 AAPL   183.736010  185.391653  182.948077  183.765930  58414500.0\n",
       "           MSFT   367.665704  371.900222  367.167526  369.249908  23083500.0\n",
       "           NVDA   474.827737  481.817400  473.177821  475.667694  32089600.0"
      ]
     },
     "execution_count": 7,
     "metadata": {},
     "output_type": "execute_result"
    }
   ],
   "source": [
    "# let us monipulate once more the indexes in order to have a nice indexed dataframe\n",
    "\n",
    "# let us first reset the index\n",
    "prices_df = prices_df.reset_index()\n",
    "\n",
    "# let's now add Asset as index\n",
    "prices_df = prices_df.set_index(['Date', 'Asset'])\n",
    "\n",
    "prices_df = prices_df.sort_index()\n",
    "prices_df.head(6)"
   ]
  },
  {
   "cell_type": "markdown",
   "metadata": {},
   "source": [
    "Example 1: Open to Close daily returns"
   ]
  },
  {
   "cell_type": "code",
   "execution_count": 8,
   "metadata": {},
   "outputs": [
    {
     "data": {
      "text/html": [
       "<div>\n",
       "<style scoped>\n",
       "    .dataframe tbody tr th:only-of-type {\n",
       "        vertical-align: middle;\n",
       "    }\n",
       "\n",
       "    .dataframe tbody tr th {\n",
       "        vertical-align: top;\n",
       "    }\n",
       "\n",
       "    .dataframe thead th {\n",
       "        text-align: right;\n",
       "    }\n",
       "</style>\n",
       "<table border=\"1\" class=\"dataframe\">\n",
       "  <thead>\n",
       "    <tr style=\"text-align: right;\">\n",
       "      <th></th>\n",
       "      <th></th>\n",
       "      <th>open_to_close_returns</th>\n",
       "    </tr>\n",
       "    <tr>\n",
       "      <th>Date</th>\n",
       "      <th>Asset</th>\n",
       "      <th></th>\n",
       "    </tr>\n",
       "  </thead>\n",
       "  <tbody>\n",
       "    <tr>\n",
       "      <th rowspan=\"3\" valign=\"top\">2024-01-02</th>\n",
       "      <th>AAPL</th>\n",
       "      <td>-0.008068</td>\n",
       "    </tr>\n",
       "    <tr>\n",
       "      <th>MSFT</th>\n",
       "      <td>-0.007998</td>\n",
       "    </tr>\n",
       "    <tr>\n",
       "      <th>NVDA</th>\n",
       "      <td>-0.021850</td>\n",
       "    </tr>\n",
       "    <tr>\n",
       "      <th rowspan=\"3\" valign=\"top\">2024-01-03</th>\n",
       "      <th>AAPL</th>\n",
       "      <td>0.000163</td>\n",
       "    </tr>\n",
       "    <tr>\n",
       "      <th>MSFT</th>\n",
       "      <td>0.004309</td>\n",
       "    </tr>\n",
       "    <tr>\n",
       "      <th>NVDA</th>\n",
       "      <td>0.001769</td>\n",
       "    </tr>\n",
       "  </tbody>\n",
       "</table>\n",
       "</div>"
      ],
      "text/plain": [
       "                  open_to_close_returns\n",
       "Date       Asset                       \n",
       "2024-01-02 AAPL               -0.008068\n",
       "           MSFT               -0.007998\n",
       "           NVDA               -0.021850\n",
       "2024-01-03 AAPL                0.000163\n",
       "           MSFT                0.004309\n",
       "           NVDA                0.001769"
      ]
     },
     "execution_count": 8,
     "metadata": {},
     "output_type": "execute_result"
    }
   ],
   "source": [
    "# now it is really easy to work with this kind of dataframe, for example, let's say\n",
    "# that you wanted to compute something simple like daily open to close returns for each\n",
    "# day and each asset, you could do like this:\n",
    "\n",
    "prices_df['open_to_close_returns'] = (prices_df['Close'] / prices_df['Open']) - 1\n",
    "\n",
    "prices_df[['open_to_close_returns']].head(6)"
   ]
  },
  {
   "cell_type": "code",
   "execution_count": 9,
   "metadata": {},
   "outputs": [
    {
     "data": {
      "text/html": [
       "<div>\n",
       "<style scoped>\n",
       "    .dataframe tbody tr th:only-of-type {\n",
       "        vertical-align: middle;\n",
       "    }\n",
       "\n",
       "    .dataframe tbody tr th {\n",
       "        vertical-align: top;\n",
       "    }\n",
       "\n",
       "    .dataframe thead th {\n",
       "        text-align: right;\n",
       "    }\n",
       "</style>\n",
       "<table border=\"1\" class=\"dataframe\">\n",
       "  <thead>\n",
       "    <tr style=\"text-align: right;\">\n",
       "      <th>Asset</th>\n",
       "      <th>AAPL</th>\n",
       "      <th>MSFT</th>\n",
       "      <th>NVDA</th>\n",
       "    </tr>\n",
       "    <tr>\n",
       "      <th>Date</th>\n",
       "      <th></th>\n",
       "      <th></th>\n",
       "      <th></th>\n",
       "    </tr>\n",
       "  </thead>\n",
       "  <tbody>\n",
       "    <tr>\n",
       "      <th>2024-01-02</th>\n",
       "      <td>-0.008068</td>\n",
       "      <td>-0.007998</td>\n",
       "      <td>-0.021850</td>\n",
       "    </tr>\n",
       "    <tr>\n",
       "      <th>2024-01-03</th>\n",
       "      <td>0.000163</td>\n",
       "      <td>0.004309</td>\n",
       "      <td>0.001769</td>\n",
       "    </tr>\n",
       "    <tr>\n",
       "      <th>2024-01-04</th>\n",
       "      <td>-0.001318</td>\n",
       "      <td>-0.007365</td>\n",
       "      <td>0.004836</td>\n",
       "    </tr>\n",
       "    <tr>\n",
       "      <th>2024-01-05</th>\n",
       "      <td>-0.004451</td>\n",
       "      <td>-0.003307</td>\n",
       "      <td>0.013103</td>\n",
       "    </tr>\n",
       "    <tr>\n",
       "      <th>2024-01-08</th>\n",
       "      <td>0.019057</td>\n",
       "      <td>0.014595</td>\n",
       "      <td>0.055360</td>\n",
       "    </tr>\n",
       "  </tbody>\n",
       "</table>\n",
       "</div>"
      ],
      "text/plain": [
       "Asset           AAPL      MSFT      NVDA\n",
       "Date                                    \n",
       "2024-01-02 -0.008068 -0.007998 -0.021850\n",
       "2024-01-03  0.000163  0.004309  0.001769\n",
       "2024-01-04 -0.001318 -0.007365  0.004836\n",
       "2024-01-05 -0.004451 -0.003307  0.013103\n",
       "2024-01-08  0.019057  0.014595  0.055360"
      ]
     },
     "execution_count": 9,
     "metadata": {},
     "output_type": "execute_result"
    }
   ],
   "source": [
    "# we can now work this in a simpler way like\n",
    "prices_df['open_to_close_returns'].unstack().head()"
   ]
  },
  {
   "cell_type": "code",
   "execution_count": 80,
   "metadata": {},
   "outputs": [
    {
     "data": {
      "text/plain": [
       "Text(0.5, 0.98, 'Open to Close Returns Distribution\\n')"
      ]
     },
     "execution_count": 80,
     "metadata": {},
     "output_type": "execute_result"
    },
    {
     "data": {
      "text/plain": [
       "<Figure size 640x480 with 0 Axes>"
      ]
     },
     "metadata": {},
     "output_type": "display_data"
    },
    {
     "data": {
      "image/png": "[encoded data removed]",
      "text/plain": [
       "<Figure size 640x480 with 4 Axes>"
      ]
     },
     "metadata": {},
     "output_type": "display_data"
    }
   ],
   "source": [
    "fg = plt.figure()\n",
    "prices_df['open_to_close_returns'].unstack().hist()\n",
    "plt.suptitle('Open to Close Returns Distribution')"
   ]
  },
  {
   "cell_type": "markdown",
   "metadata": {},
   "source": [
    "Example 2: Close to Close returns"
   ]
  },
  {
   "cell_type": "code",
   "execution_count": 11,
   "metadata": {},
   "outputs": [
    {
     "data": {
      "text/html": [
       "<div>\n",
       "<style scoped>\n",
       "    .dataframe tbody tr th:only-of-type {\n",
       "        vertical-align: middle;\n",
       "    }\n",
       "\n",
       "    .dataframe tbody tr th {\n",
       "        vertical-align: top;\n",
       "    }\n",
       "\n",
       "    .dataframe thead th {\n",
       "        text-align: right;\n",
       "    }\n",
       "</style>\n",
       "<table border=\"1\" class=\"dataframe\">\n",
       "  <thead>\n",
       "    <tr style=\"text-align: right;\">\n",
       "      <th></th>\n",
       "      <th></th>\n",
       "      <th>close_to_close_returns</th>\n",
       "    </tr>\n",
       "    <tr>\n",
       "      <th>Date</th>\n",
       "      <th>Asset</th>\n",
       "      <th></th>\n",
       "    </tr>\n",
       "  </thead>\n",
       "  <tbody>\n",
       "    <tr>\n",
       "      <th rowspan=\"3\" valign=\"top\">2024-01-02</th>\n",
       "      <th>AAPL</th>\n",
       "      <td>NaN</td>\n",
       "    </tr>\n",
       "    <tr>\n",
       "      <th>MSFT</th>\n",
       "      <td>NaN</td>\n",
       "    </tr>\n",
       "    <tr>\n",
       "      <th>NVDA</th>\n",
       "      <td>NaN</td>\n",
       "    </tr>\n",
       "    <tr>\n",
       "      <th rowspan=\"3\" valign=\"top\">2024-01-03</th>\n",
       "      <th>AAPL</th>\n",
       "      <td>-0.007488</td>\n",
       "    </tr>\n",
       "    <tr>\n",
       "      <th>MSFT</th>\n",
       "      <td>-0.000728</td>\n",
       "    </tr>\n",
       "    <tr>\n",
       "      <th>NVDA</th>\n",
       "      <td>-0.012436</td>\n",
       "    </tr>\n",
       "    <tr>\n",
       "      <th rowspan=\"3\" valign=\"top\">2024-01-04</th>\n",
       "      <th>AAPL</th>\n",
       "      <td>-0.012700</td>\n",
       "    </tr>\n",
       "    <tr>\n",
       "      <th>MSFT</th>\n",
       "      <td>-0.007178</td>\n",
       "    </tr>\n",
       "    <tr>\n",
       "      <th>NVDA</th>\n",
       "      <td>0.009018</td>\n",
       "    </tr>\n",
       "    <tr>\n",
       "      <th rowspan=\"3\" valign=\"top\">2024-01-05</th>\n",
       "      <th>AAPL</th>\n",
       "      <td>-0.004013</td>\n",
       "    </tr>\n",
       "    <tr>\n",
       "      <th>MSFT</th>\n",
       "      <td>-0.000516</td>\n",
       "    </tr>\n",
       "    <tr>\n",
       "      <th>NVDA</th>\n",
       "      <td>0.022897</td>\n",
       "    </tr>\n",
       "  </tbody>\n",
       "</table>\n",
       "</div>"
      ],
      "text/plain": [
       "                  close_to_close_returns\n",
       "Date       Asset                        \n",
       "2024-01-02 AAPL                      NaN\n",
       "           MSFT                      NaN\n",
       "           NVDA                      NaN\n",
       "2024-01-03 AAPL                -0.007488\n",
       "           MSFT                -0.000728\n",
       "           NVDA                -0.012436\n",
       "2024-01-04 AAPL                -0.012700\n",
       "           MSFT                -0.007178\n",
       "           NVDA                 0.009018\n",
       "2024-01-05 AAPL                -0.004013\n",
       "           MSFT                -0.000516\n",
       "           NVDA                 0.022897"
      ]
     },
     "execution_count": 11,
     "metadata": {},
     "output_type": "execute_result"
    }
   ],
   "source": [
    "# a more complex exercise can be to compute close to close returns\n",
    "# we will use the groupby function\n",
    "\n",
    "# the index is already sorted\n",
    "prices_df['close_to_close_returns'] = prices_df.groupby('Asset')['Close'].pct_change(1)\n",
    "prices_df[['close_to_close_returns']].head(12)"
   ]
  },
  {
   "cell_type": "code",
   "execution_count": 81,
   "metadata": {},
   "outputs": [
    {
     "data": {
      "text/plain": [
       "Text(0.5, 0.98, 'Close to Close Returns Distribution')"
      ]
     },
     "execution_count": 81,
     "metadata": {},
     "output_type": "execute_result"
    },
    {
     "data": {
      "text/plain": [
       "<Figure size 640x480 with 0 Axes>"
      ]
     },
     "metadata": {},
     "output_type": "display_data"
    },
    {
     "data": {
      "image/png": "[encoded data removed]",
      "text/plain": [
       "<Figure size 640x480 with 4 Axes>"
      ]
     },
     "metadata": {},
     "output_type": "display_data"
    }
   ],
   "source": [
    "# as you can see the first values for each asset are NaNs, since we can't compute returns \n",
    "# since we don't have a previous close value.\n",
    "# again, we can use the unstack() function of pandas if needed\n",
    "\n",
    "fg = plt.figure()\n",
    "prices_df['close_to_close_returns'].unstack().hist()\n",
    "plt.suptitle('Close to Close Returns Distribution')"
   ]
  },
  {
   "cell_type": "markdown",
   "metadata": {},
   "source": [
    "Example 3: sum of daily volume of the stocks"
   ]
  },
  {
   "cell_type": "code",
   "execution_count": 24,
   "metadata": {},
   "outputs": [
    {
     "data": {
      "text/html": [
       "<div>\n",
       "<style scoped>\n",
       "    .dataframe tbody tr th:only-of-type {\n",
       "        vertical-align: middle;\n",
       "    }\n",
       "\n",
       "    .dataframe tbody tr th {\n",
       "        vertical-align: top;\n",
       "    }\n",
       "\n",
       "    .dataframe thead th {\n",
       "        text-align: right;\n",
       "    }\n",
       "</style>\n",
       "<table border=\"1\" class=\"dataframe\">\n",
       "  <thead>\n",
       "    <tr style=\"text-align: right;\">\n",
       "      <th></th>\n",
       "      <th></th>\n",
       "      <th>sum_of_daily_volumes</th>\n",
       "    </tr>\n",
       "    <tr>\n",
       "      <th>Date</th>\n",
       "      <th>Asset</th>\n",
       "      <th></th>\n",
       "    </tr>\n",
       "  </thead>\n",
       "  <tbody>\n",
       "    <tr>\n",
       "      <th rowspan=\"3\" valign=\"top\">2024-01-02</th>\n",
       "      <th>AAPL</th>\n",
       "      <td>148872700.0</td>\n",
       "    </tr>\n",
       "    <tr>\n",
       "      <th>MSFT</th>\n",
       "      <td>148872700.0</td>\n",
       "    </tr>\n",
       "    <tr>\n",
       "      <th>NVDA</th>\n",
       "      <td>148872700.0</td>\n",
       "    </tr>\n",
       "    <tr>\n",
       "      <th rowspan=\"3\" valign=\"top\">2024-01-03</th>\n",
       "      <th>AAPL</th>\n",
       "      <td>113587600.0</td>\n",
       "    </tr>\n",
       "    <tr>\n",
       "      <th>MSFT</th>\n",
       "      <td>113587600.0</td>\n",
       "    </tr>\n",
       "    <tr>\n",
       "      <th>NVDA</th>\n",
       "      <td>113587600.0</td>\n",
       "    </tr>\n",
       "  </tbody>\n",
       "</table>\n",
       "</div>"
      ],
      "text/plain": [
       "                  sum_of_daily_volumes\n",
       "Date       Asset                      \n",
       "2024-01-02 AAPL            148872700.0\n",
       "           MSFT            148872700.0\n",
       "           NVDA            148872700.0\n",
       "2024-01-03 AAPL            113587600.0\n",
       "           MSFT            113587600.0\n",
       "           NVDA            113587600.0"
      ]
     },
     "execution_count": 24,
     "metadata": {},
     "output_type": "execute_result"
    }
   ],
   "source": [
    "# we now want to know what the sum of daily volumes is\n",
    "# we will use groupby on 'Date' index\n",
    "# we will use trasform in order to keep the indexes nice\n",
    "# as you can see, for each Date the sum of volumes is the same\n",
    "\n",
    "prices_df['sum_of_daily_volumes'] = prices_df.groupby('Date')['Volume'].transform(lambda x: x.sum())\n",
    "prices_df[['sum_of_daily_volumes']].head(6)"
   ]
  },
  {
   "cell_type": "markdown",
   "metadata": {},
   "source": [
    "Example 4: selecting a specific asset price curve"
   ]
  },
  {
   "cell_type": "code",
   "execution_count": 42,
   "metadata": {},
   "outputs": [
    {
     "data": {
      "text/plain": [
       "Asset\n",
       "AAPL    186.658310\n",
       "MSFT    372.498019\n",
       "NVDA    492.416915\n",
       "Name: Open, dtype: float64"
      ]
     },
     "execution_count": 42,
     "metadata": {},
     "output_type": "execute_result"
    }
   ],
   "source": [
    "# select a specific slice of the dataframe using the first index\n",
    "prices_df.loc['2024-01-02', 'Open']"
   ]
  },
  {
   "cell_type": "code",
   "execution_count": 50,
   "metadata": {},
   "outputs": [
    {
     "data": {
      "text/plain": [
       "<Axes: title={'center': 'AAPL Close Price'}, xlabel='Date'>"
      ]
     },
     "execution_count": 50,
     "metadata": {},
     "output_type": "execute_result"
    },
    {
     "data": {
      "image/png": "[encoded data removed]",
      "text/plain": [
       "<Figure size 640x480 with 1 Axes>"
      ]
     },
     "metadata": {},
     "output_type": "display_data"
    }
   ],
   "source": [
    "# select a specific asset curve\n",
    "prices_df.swaplevel(0,1).loc['AAPL', 'Close']\n",
    "\n",
    "prices_df.swaplevel(0,1).loc['AAPL', 'Close'].plot(title='AAPL Close Price')"
   ]
  },
  {
   "cell_type": "markdown",
   "metadata": {},
   "source": [
    "Esample 5: weekly returns"
   ]
  },
  {
   "cell_type": "code",
   "execution_count": 37,
   "metadata": {},
   "outputs": [
    {
     "data": {
      "text/html": [
       "<div>\n",
       "<style scoped>\n",
       "    .dataframe tbody tr th:only-of-type {\n",
       "        vertical-align: middle;\n",
       "    }\n",
       "\n",
       "    .dataframe tbody tr th {\n",
       "        vertical-align: top;\n",
       "    }\n",
       "\n",
       "    .dataframe thead th {\n",
       "        text-align: right;\n",
       "    }\n",
       "</style>\n",
       "<table border=\"1\" class=\"dataframe\">\n",
       "  <thead>\n",
       "    <tr style=\"text-align: right;\">\n",
       "      <th>Asset</th>\n",
       "      <th>AAPL</th>\n",
       "      <th>MSFT</th>\n",
       "      <th>NVDA</th>\n",
       "    </tr>\n",
       "    <tr>\n",
       "      <th>Date</th>\n",
       "      <th></th>\n",
       "      <th></th>\n",
       "      <th></th>\n",
       "    </tr>\n",
       "  </thead>\n",
       "  <tbody>\n",
       "    <tr>\n",
       "      <th>2024-01-08</th>\n",
       "      <td>185.072495</td>\n",
       "      <td>373.325012</td>\n",
       "      <td>522.505493</td>\n",
       "    </tr>\n",
       "    <tr>\n",
       "      <th>2024-01-15</th>\n",
       "      <td>NaN</td>\n",
       "      <td>NaN</td>\n",
       "      <td>NaN</td>\n",
       "    </tr>\n",
       "    <tr>\n",
       "      <th>2024-01-22</th>\n",
       "      <td>193.380600</td>\n",
       "      <td>395.065521</td>\n",
       "      <td>596.512024</td>\n",
       "    </tr>\n",
       "    <tr>\n",
       "      <th>2024-01-29</th>\n",
       "      <td>191.226273</td>\n",
       "      <td>408.227386</td>\n",
       "      <td>624.620728</td>\n",
       "    </tr>\n",
       "    <tr>\n",
       "      <th>2024-02-05</th>\n",
       "      <td>187.186920</td>\n",
       "      <td>404.172241</td>\n",
       "      <td>693.287476</td>\n",
       "    </tr>\n",
       "    <tr>\n",
       "      <th>2024-02-12</th>\n",
       "      <td>186.896500</td>\n",
       "      <td>413.747223</td>\n",
       "      <td>722.446106</td>\n",
       "    </tr>\n",
       "    <tr>\n",
       "      <th>2024-02-19</th>\n",
       "      <td>NaN</td>\n",
       "      <td>NaN</td>\n",
       "      <td>NaN</td>\n",
       "    </tr>\n",
       "    <tr>\n",
       "      <th>2024-02-26</th>\n",
       "      <td>180.914627</td>\n",
       "      <td>406.806244</td>\n",
       "      <td>790.882874</td>\n",
       "    </tr>\n",
       "  </tbody>\n",
       "</table>\n",
       "</div>"
      ],
      "text/plain": [
       "Asset             AAPL        MSFT        NVDA\n",
       "Date                                          \n",
       "2024-01-08  185.072495  373.325012  522.505493\n",
       "2024-01-15         NaN         NaN         NaN\n",
       "2024-01-22  193.380600  395.065521  596.512024\n",
       "2024-01-29  191.226273  408.227386  624.620728\n",
       "2024-02-05  187.186920  404.172241  693.287476\n",
       "2024-02-12  186.896500  413.747223  722.446106\n",
       "2024-02-19         NaN         NaN         NaN\n",
       "2024-02-26  180.914627  406.806244  790.882874"
      ]
     },
     "execution_count": 37,
     "metadata": {},
     "output_type": "execute_result"
    }
   ],
   "source": [
    "# resample taking the price of each monday\n",
    "# notice that with asfreq we don't have bank holidays\n",
    "# for example, in USA 2024-01-15 is Martin Luther King Day\n",
    "# while 2024-02-19 is Presidents Day\n",
    "prices_df['Close'].unstack().resample('W-Mon').asfreq().head(8)"
   ]
  },
  {
   "cell_type": "code",
   "execution_count": 38,
   "metadata": {},
   "outputs": [
    {
     "data": {
      "text/html": [
       "<div>\n",
       "<style scoped>\n",
       "    .dataframe tbody tr th:only-of-type {\n",
       "        vertical-align: middle;\n",
       "    }\n",
       "\n",
       "    .dataframe tbody tr th {\n",
       "        vertical-align: top;\n",
       "    }\n",
       "\n",
       "    .dataframe thead th {\n",
       "        text-align: right;\n",
       "    }\n",
       "</style>\n",
       "<table border=\"1\" class=\"dataframe\">\n",
       "  <thead>\n",
       "    <tr style=\"text-align: right;\">\n",
       "      <th>Asset</th>\n",
       "      <th>AAPL</th>\n",
       "      <th>MSFT</th>\n",
       "      <th>NVDA</th>\n",
       "    </tr>\n",
       "    <tr>\n",
       "      <th>Date</th>\n",
       "      <th></th>\n",
       "      <th></th>\n",
       "      <th></th>\n",
       "    </tr>\n",
       "  </thead>\n",
       "  <tbody>\n",
       "    <tr>\n",
       "      <th>2024-01-08</th>\n",
       "      <td>185.072495</td>\n",
       "      <td>373.325012</td>\n",
       "      <td>522.505493</td>\n",
       "    </tr>\n",
       "    <tr>\n",
       "      <th>2024-01-15</th>\n",
       "      <td>185.431549</td>\n",
       "      <td>387.054810</td>\n",
       "      <td>547.074341</td>\n",
       "    </tr>\n",
       "    <tr>\n",
       "      <th>2024-01-22</th>\n",
       "      <td>193.380600</td>\n",
       "      <td>395.065521</td>\n",
       "      <td>596.512024</td>\n",
       "    </tr>\n",
       "    <tr>\n",
       "      <th>2024-01-29</th>\n",
       "      <td>191.226273</td>\n",
       "      <td>408.227386</td>\n",
       "      <td>624.620728</td>\n",
       "    </tr>\n",
       "    <tr>\n",
       "      <th>2024-02-05</th>\n",
       "      <td>187.186920</td>\n",
       "      <td>404.172241</td>\n",
       "      <td>693.287476</td>\n",
       "    </tr>\n",
       "    <tr>\n",
       "      <th>2024-02-12</th>\n",
       "      <td>186.896500</td>\n",
       "      <td>413.747223</td>\n",
       "      <td>722.446106</td>\n",
       "    </tr>\n",
       "    <tr>\n",
       "      <th>2024-02-19</th>\n",
       "      <td>182.063049</td>\n",
       "      <td>403.332489</td>\n",
       "      <td>726.095947</td>\n",
       "    </tr>\n",
       "    <tr>\n",
       "      <th>2024-02-26</th>\n",
       "      <td>180.914627</td>\n",
       "      <td>406.806244</td>\n",
       "      <td>790.882874</td>\n",
       "    </tr>\n",
       "  </tbody>\n",
       "</table>\n",
       "</div>"
      ],
      "text/plain": [
       "Asset             AAPL        MSFT        NVDA\n",
       "Date                                          \n",
       "2024-01-08  185.072495  373.325012  522.505493\n",
       "2024-01-15  185.431549  387.054810  547.074341\n",
       "2024-01-22  193.380600  395.065521  596.512024\n",
       "2024-01-29  191.226273  408.227386  624.620728\n",
       "2024-02-05  187.186920  404.172241  693.287476\n",
       "2024-02-12  186.896500  413.747223  722.446106\n",
       "2024-02-19  182.063049  403.332489  726.095947\n",
       "2024-02-26  180.914627  406.806244  790.882874"
      ]
     },
     "execution_count": 38,
     "metadata": {},
     "output_type": "execute_result"
    }
   ],
   "source": [
    "# we can use the resample function \"last\" to fill these nans with the last available price\n",
    "prices_df['Close'].unstack().resample('W-Mon').last().head(8)"
   ]
  },
  {
   "cell_type": "code",
   "execution_count": 55,
   "metadata": {},
   "outputs": [
    {
     "data": {
      "text/html": [
       "<div>\n",
       "<style scoped>\n",
       "    .dataframe tbody tr th:only-of-type {\n",
       "        vertical-align: middle;\n",
       "    }\n",
       "\n",
       "    .dataframe tbody tr th {\n",
       "        vertical-align: top;\n",
       "    }\n",
       "\n",
       "    .dataframe thead th {\n",
       "        text-align: right;\n",
       "    }\n",
       "</style>\n",
       "<table border=\"1\" class=\"dataframe\">\n",
       "  <thead>\n",
       "    <tr style=\"text-align: right;\">\n",
       "      <th>Asset</th>\n",
       "      <th>AAPL</th>\n",
       "      <th>MSFT</th>\n",
       "      <th>NVDA</th>\n",
       "    </tr>\n",
       "    <tr>\n",
       "      <th>Date</th>\n",
       "      <th></th>\n",
       "      <th></th>\n",
       "      <th></th>\n",
       "    </tr>\n",
       "  </thead>\n",
       "  <tbody>\n",
       "    <tr>\n",
       "      <th>2024-01-11</th>\n",
       "      <td>185.102417</td>\n",
       "      <td>383.22879</td>\n",
       "      <td>548.194275</td>\n",
       "    </tr>\n",
       "    <tr>\n",
       "      <th>2024-01-12</th>\n",
       "      <td>185.431549</td>\n",
       "      <td>387.05481</td>\n",
       "      <td>547.074341</td>\n",
       "    </tr>\n",
       "    <tr>\n",
       "      <th>2024-01-15</th>\n",
       "      <td>NaN</td>\n",
       "      <td>NaN</td>\n",
       "      <td>NaN</td>\n",
       "    </tr>\n",
       "  </tbody>\n",
       "</table>\n",
       "</div>"
      ],
      "text/plain": [
       "Asset             AAPL       MSFT        NVDA\n",
       "Date                                         \n",
       "2024-01-11  185.102417  383.22879  548.194275\n",
       "2024-01-12  185.431549  387.05481  547.074341\n",
       "2024-01-15         NaN        NaN         NaN"
      ]
     },
     "execution_count": 55,
     "metadata": {},
     "output_type": "execute_result"
    }
   ],
   "source": [
    "# select a specific slice of the dataframe to show that we kept the last available datapoint\n",
    "prices_df.loc['2024-01-11':'2024-01-15', 'Close'].unstack()\n",
    "\n",
    "# as you can see there is no available data for 2024-01-15.\n",
    "# with last we get values for 2024-01-12 and tag it 2024-01-15, as expected"
   ]
  },
  {
   "cell_type": "code",
   "execution_count": 63,
   "metadata": {},
   "outputs": [
    {
     "data": {
      "text/html": [
       "<div>\n",
       "<style scoped>\n",
       "    .dataframe tbody tr th:only-of-type {\n",
       "        vertical-align: middle;\n",
       "    }\n",
       "\n",
       "    .dataframe tbody tr th {\n",
       "        vertical-align: top;\n",
       "    }\n",
       "\n",
       "    .dataframe thead th {\n",
       "        text-align: right;\n",
       "    }\n",
       "</style>\n",
       "<table border=\"1\" class=\"dataframe\">\n",
       "  <thead>\n",
       "    <tr style=\"text-align: right;\">\n",
       "      <th>Asset</th>\n",
       "      <th>AAPL</th>\n",
       "      <th>MSFT</th>\n",
       "      <th>NVDA</th>\n",
       "    </tr>\n",
       "    <tr>\n",
       "      <th>Date</th>\n",
       "      <th></th>\n",
       "      <th></th>\n",
       "      <th></th>\n",
       "    </tr>\n",
       "  </thead>\n",
       "  <tbody>\n",
       "    <tr>\n",
       "      <th>2024-01-08</th>\n",
       "      <td>NaN</td>\n",
       "      <td>NaN</td>\n",
       "      <td>NaN</td>\n",
       "    </tr>\n",
       "    <tr>\n",
       "      <th>2024-01-15</th>\n",
       "      <td>0.001940</td>\n",
       "      <td>0.036777</td>\n",
       "      <td>0.047021</td>\n",
       "    </tr>\n",
       "    <tr>\n",
       "      <th>2024-01-22</th>\n",
       "      <td>0.042868</td>\n",
       "      <td>0.020697</td>\n",
       "      <td>0.090367</td>\n",
       "    </tr>\n",
       "    <tr>\n",
       "      <th>2024-01-29</th>\n",
       "      <td>-0.011140</td>\n",
       "      <td>0.033316</td>\n",
       "      <td>0.047122</td>\n",
       "    </tr>\n",
       "    <tr>\n",
       "      <th>2024-02-05</th>\n",
       "      <td>-0.021123</td>\n",
       "      <td>-0.009934</td>\n",
       "      <td>0.109934</td>\n",
       "    </tr>\n",
       "  </tbody>\n",
       "</table>\n",
       "</div>"
      ],
      "text/plain": [
       "Asset           AAPL      MSFT      NVDA\n",
       "Date                                    \n",
       "2024-01-08       NaN       NaN       NaN\n",
       "2024-01-15  0.001940  0.036777  0.047021\n",
       "2024-01-22  0.042868  0.020697  0.090367\n",
       "2024-01-29 -0.011140  0.033316  0.047122\n",
       "2024-02-05 -0.021123 -0.009934  0.109934"
      ]
     },
     "execution_count": 63,
     "metadata": {},
     "output_type": "execute_result"
    }
   ],
   "source": [
    "#we can now compute weekly returns\n",
    "weekly_returns = prices_df['Close'].unstack().resample('W-Mon').last().pct_change()\n",
    "weekly_returns.head()"
   ]
  },
  {
   "cell_type": "code",
   "execution_count": 64,
   "metadata": {},
   "outputs": [
    {
     "data": {
      "text/html": [
       "<div>\n",
       "<style scoped>\n",
       "    .dataframe tbody tr th:only-of-type {\n",
       "        vertical-align: middle;\n",
       "    }\n",
       "\n",
       "    .dataframe tbody tr th {\n",
       "        vertical-align: top;\n",
       "    }\n",
       "\n",
       "    .dataframe thead th {\n",
       "        text-align: right;\n",
       "    }\n",
       "</style>\n",
       "<table border=\"1\" class=\"dataframe\">\n",
       "  <thead>\n",
       "    <tr style=\"text-align: right;\">\n",
       "      <th>Asset</th>\n",
       "      <th>AAPL</th>\n",
       "      <th>MSFT</th>\n",
       "      <th>NVDA</th>\n",
       "    </tr>\n",
       "    <tr>\n",
       "      <th>Date</th>\n",
       "      <th></th>\n",
       "      <th></th>\n",
       "      <th></th>\n",
       "    </tr>\n",
       "  </thead>\n",
       "  <tbody>\n",
       "    <tr>\n",
       "      <th>2024-01-08</th>\n",
       "      <td>NaN</td>\n",
       "      <td>NaN</td>\n",
       "      <td>NaN</td>\n",
       "    </tr>\n",
       "    <tr>\n",
       "      <th>2024-01-09</th>\n",
       "      <td>NaN</td>\n",
       "      <td>NaN</td>\n",
       "      <td>NaN</td>\n",
       "    </tr>\n",
       "    <tr>\n",
       "      <th>2024-01-10</th>\n",
       "      <td>NaN</td>\n",
       "      <td>NaN</td>\n",
       "      <td>NaN</td>\n",
       "    </tr>\n",
       "    <tr>\n",
       "      <th>2024-01-11</th>\n",
       "      <td>NaN</td>\n",
       "      <td>NaN</td>\n",
       "      <td>NaN</td>\n",
       "    </tr>\n",
       "    <tr>\n",
       "      <th>2024-01-12</th>\n",
       "      <td>NaN</td>\n",
       "      <td>NaN</td>\n",
       "      <td>NaN</td>\n",
       "    </tr>\n",
       "    <tr>\n",
       "      <th>2024-01-15</th>\n",
       "      <td>0.00194</td>\n",
       "      <td>0.036777</td>\n",
       "      <td>0.047021</td>\n",
       "    </tr>\n",
       "    <tr>\n",
       "      <th>2024-01-16</th>\n",
       "      <td>0.00194</td>\n",
       "      <td>0.036777</td>\n",
       "      <td>0.047021</td>\n",
       "    </tr>\n",
       "    <tr>\n",
       "      <th>2024-01-17</th>\n",
       "      <td>0.00194</td>\n",
       "      <td>0.036777</td>\n",
       "      <td>0.047021</td>\n",
       "    </tr>\n",
       "    <tr>\n",
       "      <th>2024-01-18</th>\n",
       "      <td>0.00194</td>\n",
       "      <td>0.036777</td>\n",
       "      <td>0.047021</td>\n",
       "    </tr>\n",
       "    <tr>\n",
       "      <th>2024-01-19</th>\n",
       "      <td>0.00194</td>\n",
       "      <td>0.036777</td>\n",
       "      <td>0.047021</td>\n",
       "    </tr>\n",
       "  </tbody>\n",
       "</table>\n",
       "</div>"
      ],
      "text/plain": [
       "Asset          AAPL      MSFT      NVDA\n",
       "Date                                   \n",
       "2024-01-08      NaN       NaN       NaN\n",
       "2024-01-09      NaN       NaN       NaN\n",
       "2024-01-10      NaN       NaN       NaN\n",
       "2024-01-11      NaN       NaN       NaN\n",
       "2024-01-12      NaN       NaN       NaN\n",
       "2024-01-15  0.00194  0.036777  0.047021\n",
       "2024-01-16  0.00194  0.036777  0.047021\n",
       "2024-01-17  0.00194  0.036777  0.047021\n",
       "2024-01-18  0.00194  0.036777  0.047021\n",
       "2024-01-19  0.00194  0.036777  0.047021"
      ]
     },
     "execution_count": 64,
     "metadata": {},
     "output_type": "execute_result"
    }
   ],
   "source": [
    "# as a last passage, let us say that we want to add this information to our prices_df\n",
    "# first of all we resample the index to Business days\n",
    "weekly_returns = weekly_returns.resample('B').ffill()\n",
    "weekly_returns.head(10)\n",
    "# remember to do ffill and not bfill, since we don't want to see the future"
   ]
  },
  {
   "cell_type": "code",
   "execution_count": 65,
   "metadata": {},
   "outputs": [
    {
     "data": {
      "text/plain": [
       "Date        Asset\n",
       "2024-01-15  AAPL     0.001940\n",
       "            MSFT     0.036777\n",
       "            NVDA     0.047021\n",
       "2024-01-16  AAPL     0.001940\n",
       "            MSFT     0.036777\n",
       "dtype: float64"
      ]
     },
     "execution_count": 65,
     "metadata": {},
     "output_type": "execute_result"
    }
   ],
   "source": [
    "# then stack the dataframe to have the right index\n",
    "weekly_returns = weekly_returns.stack()\n",
    "weekly_returns.head(5)\n",
    "\n",
    "# notice that this will get rid of Date with all nans"
   ]
  },
  {
   "cell_type": "code",
   "execution_count": 71,
   "metadata": {},
   "outputs": [
    {
     "data": {
      "text/plain": [
       "Date        Asset\n",
       "2024-05-16  AAPL     0.026540\n",
       "            MSFT     0.000435\n",
       "            NVDA    -0.018895\n",
       "2024-05-17  AAPL     0.026540\n",
       "            MSFT     0.000435\n",
       "            NVDA    -0.018895\n",
       "Name: weekly_returns, dtype: float64"
      ]
     },
     "execution_count": 71,
     "metadata": {},
     "output_type": "execute_result"
    }
   ],
   "source": [
    "# then simply add this information as a column of prices_df\n",
    "prices_df['weekly_returns'] = weekly_returns\n",
    "prices_df['weekly_returns'].tail(6)"
   ]
  },
  {
   "cell_type": "code",
   "execution_count": null,
   "metadata": {},
   "outputs": [],
   "source": []
  }
 ],
 "metadata": {
  "kernelspec": {
   "display_name": "Python 3",
   "language": "python",
   "name": "python3"
  },
  "language_info": {
   "codemirror_mode": {
    "name": "ipython",
    "version": 3
   },
   "file_extension": ".py",
   "mimetype": "text/x-python",
   "name": "python",
   "nbconvert_exporter": "python",
   "pygments_lexer": "ipython3",
   "version": "3.8.6"
  }
 },
 "nbformat": 4,
 "nbformat_minor": 2
}
