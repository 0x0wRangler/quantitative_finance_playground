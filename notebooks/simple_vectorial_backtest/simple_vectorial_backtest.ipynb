{
 "cells": [
  {
   "cell_type": "code",
   "execution_count": 1,
   "metadata": {},
   "outputs": [],
   "source": [
    "import pandas as pd\n",
    "import numpy as np\n",
    "import backtest"
   ]
  },
  {
   "cell_type": "code",
   "execution_count": 2,
   "metadata": {},
   "outputs": [],
   "source": [
    "np.random.seed(123)  # for reproducibility"
   ]
  },
  {
   "cell_type": "code",
   "execution_count": 3,
   "metadata": {},
   "outputs": [
    {
     "name": "stdout",
     "output_type": "stream",
     "text": [
      "                      signal\n",
      "datetime   asset            \n",
      "2024-01-01 Asset_1  0.696469\n",
      "           Asset_2  0.286139\n",
      "           Asset_3  0.226851\n",
      "           Asset_4  0.551315\n",
      "           Asset_5  0.719469\n"
     ]
    }
   ],
   "source": [
    "# Mock datetime index (same as prices_df)\n",
    "datetime_index = pd.date_range(start='2024-01-01', end='2024-12-31', freq='D')\n",
    "\n",
    "# Mock asset symbols\n",
    "assets = ['Asset_1', 'Asset_2', 'Asset_3', 'Asset_4', 'Asset_5']\n",
    "\n",
    "# Generate random signal values for each asset and datetime\n",
    "signal_data = np.random.rand(len(datetime_index) * len(assets)).reshape(len(datetime_index), len(assets))\n",
    "\n",
    "# Create signals DataFrame with MultiIndex\n",
    "index = pd.MultiIndex.from_product([datetime_index, assets], names=['datetime', 'asset'])\n",
    "signals_df = pd.DataFrame(signal_data.flatten(), index=index, columns=['signal'])\n",
    "\n",
    "print(signals_df.head())"
   ]
  },
  {
   "cell_type": "code",
   "execution_count": 4,
   "metadata": {},
   "outputs": [
    {
     "name": "stdout",
     "output_type": "stream",
     "text": [
      "               Asset_1     Asset_2     Asset_3     Asset_4     Asset_5\n",
      "2024-01-01  100.000000  100.000000  100.000000  100.000000  100.000000\n",
      "2024-01-02   97.117114   96.975679  114.046106  102.744247  120.748569\n",
      "2024-01-03  103.477291  112.706864  125.298588  117.031939  120.925998\n",
      "2024-01-04  109.117378  107.724420  141.691891   86.696355  139.697009\n",
      "2024-01-05  131.988934  124.782836  140.158850   96.323625  119.396835\n"
     ]
    }
   ],
   "source": [
    "def generate_price_series(start_date, end_date, num_assets, mu, sigma, initial_price=100):\n",
    "    # Generate dates\n",
    "    dates = pd.date_range(start=start_date, end=end_date, freq='D')\n",
    "\n",
    "    # Generate random shocks\n",
    "    dt = 1  # Time step\n",
    "    epsilon = np.random.normal(0, 1, size=(len(dates), num_assets))\n",
    "\n",
    "    # Initialize prices DataFrame\n",
    "    prices_df = pd.DataFrame(index=dates)\n",
    "\n",
    "    # Calculate prices using Geometric Brownian Motion\n",
    "    for i in range(num_assets):\n",
    "        asset_name = f'Asset_{i+1}'\n",
    "        prices = [initial_price]\n",
    "        for t in range(len(prices_df.index) - 1):\n",
    "            drift = mu * dt\n",
    "            diffusion = sigma * np.sqrt(dt) * epsilon[t, i]\n",
    "            price_today = prices[-1] * (1 + drift + diffusion)\n",
    "            prices.append(price_today)\n",
    "        prices_df[asset_name] = prices\n",
    "\n",
    "    return prices_df\n",
    "\n",
    "# Parameters\n",
    "start_date = '2024-01-01'\n",
    "end_date = '2024-12-31'\n",
    "num_assets = 5\n",
    "mu = 0.01  # Drift (expected return)\n",
    "sigma = 0.2  # Volatility\n",
    "\n",
    "# Generate price DataFrame\n",
    "prices_df = generate_price_series(start_date, end_date, num_assets, mu, sigma)\n",
    "\n",
    "# Print or visualize the price DataFrame\n",
    "print(prices_df.head())\n"
   ]
  },
  {
   "cell_type": "code",
   "execution_count": 5,
   "metadata": {},
   "outputs": [],
   "source": [
    "# Example usage:\n",
    "# Assuming you have signals_df and prices_df ready\n",
    "# signals_df should have a MultiIndex with 'datetime' and 'asset'\n",
    "# prices_df should have a DateTimeIndex\n",
    "\n",
    "# Set parameters\n",
    "backtest_obj = backtest.VectorialBacktest(\n",
    "    signals=signals_df, \n",
    "    prices=prices_df, \n",
    "    initial_cash=1000000, \n",
    "    commissions=5, \n",
    "    number_of_instruments_long_leg=2, \n",
    "    number_of_instruments_short_leg=2\n",
    ")\n",
    "# Run backtest\n",
    "trades_df, equity_line_df, backtest_metrics = backtest_obj.do_backtest()\n"
   ]
  },
  {
   "cell_type": "code",
   "execution_count": 6,
   "metadata": {},
   "outputs": [],
   "source": [
    "signals_df = pd.DataFrame(index=pd.MultiIndex.from_arrays([\n",
    "    ['2020-01-01', '2020-01-01', '2020-01-02', '2020-01-02',\n",
    "     '2020-01-03','2020-01-03', '2020-01-04', '2020-01-04',\n",
    "     '2020-01-05','2020-01-05'], [\n",
    "         'A','B','A','B','A',\n",
    "         'B','A','B','A','B'\n",
    "     ]\n",
    "], names=['datetime', 'asset']),\n",
    "    data={\n",
    "        'signal': [\n",
    "            1,0,1,0,0,1,0,1,1,0\n",
    "        ]})\n",
    "\n",
    "prices_df = pd.DataFrame({\n",
    "    'A': [100, 101, 100, 99, 100, 101],\n",
    "    'B': [100, 95, 100, 105, 100, 90]\n",
    "}, index=['2020-01-01', '2020-01-02', '2020-01-03', '2020-01-04', '2020-01-05', '2020-01-06'])\n",
    "\n"
   ]
  },
  {
   "cell_type": "code",
   "execution_count": 7,
   "metadata": {},
   "outputs": [],
   "source": [
    "# No commissions\n",
    "backtest_obj = backtest.VectorialBacktest(\n",
    "    signals=signals_df, \n",
    "    prices=prices_df, \n",
    "    initial_cash=100, \n",
    "    commissions=0, \n",
    "    number_of_instruments_long_leg=1, \n",
    "    number_of_instruments_short_leg=1\n",
    ")\n",
    "# Run backtest\n",
    "trades_df, equity_line_df, backtest_metrics = backtest_obj.do_backtest()\n"
   ]
  },
  {
   "cell_type": "code",
   "execution_count": 9,
   "metadata": {},
   "outputs": [],
   "source": [
    "# checks\n",
    "assert (trades_df['A'] == [0.5, 0.5, -0.5, -0.5, 0.5]).all()\n",
    "assert (trades_df['B'] == -trades_df['A']).all()\n",
    "\n",
    "assert (round(equity_line_df['portfolio_value'], 3) == [100, 103, 99.780, 102.773, 99.807, 105.296]).all()\n",
    "assert round(backtest_metrics['max_drawdown'], 5) == round(0.03126628452, 5)"
   ]
  },
  {
   "cell_type": "code",
   "execution_count": 10,
   "metadata": {},
   "outputs": [],
   "source": [
    "# with commissions\n",
    "backtest_obj = backtest.VectorialBacktest(\n",
    "    signals=signals_df, \n",
    "    prices=prices_df, \n",
    "    initial_cash=100, \n",
    "    commissions=5, \n",
    "    number_of_instruments_long_leg=1, \n",
    "    number_of_instruments_short_leg=1\n",
    ")\n",
    "# Run backtest\n",
    "trades_df, equity_line_df, backtest_metrics = backtest_obj.do_backtest()\n"
   ]
  },
  {
   "cell_type": "code",
   "execution_count": 11,
   "metadata": {},
   "outputs": [],
   "source": [
    "# checks\n",
    "assert (trades_df['A'] == [0.5, 0.5, -0.5, -0.5, 0.5]).all()\n",
    "assert (trades_df['B'] == -trades_df['A']).all()\n",
    "\n",
    "assert (round(equity_line_df['portfolio_value'], 5) == [100.00000, 102.94850, 99.72968, 102.61885, 99.65727, 105.03328]).all()\n",
    "assert round(backtest_metrics['max_drawdown'], 5) == round(0.03196968585, 5)"
   ]
  },
  {
   "cell_type": "code",
   "execution_count": 12,
   "metadata": {},
   "outputs": [],
   "source": [
    "# long only\n",
    "backtest_obj = backtest.VectorialBacktest(\n",
    "    signals=signals_df, \n",
    "    prices=prices_df, \n",
    "    initial_cash=100, \n",
    "    commissions=5, \n",
    "    number_of_instruments_long_leg=1, \n",
    "    number_of_instruments_short_leg=0\n",
    ")\n",
    "# Run backtest\n",
    "trades_df, equity_line_df, backtest_metrics = backtest_obj.do_backtest()\n"
   ]
  },
  {
   "cell_type": "code",
   "execution_count": 13,
   "metadata": {},
   "outputs": [],
   "source": [
    "# checks\n",
    "assert (trades_df['A'] == [1, 1, 0, 0, 1]).all()\n",
    "assert (trades_df['B'] == 1 - trades_df['A']).all()\n",
    "\n",
    "assert (round(equity_line_df['portfolio_value'], 5) == [100.00000, 100.94950, 99.95000, 104.84255, 99.85005, 100.74770]).all()\n",
    "assert round(backtest_metrics['max_drawdown'], 5) == round(0.04761904762, 5)"
   ]
  },
  {
   "cell_type": "code",
   "execution_count": null,
   "metadata": {},
   "outputs": [],
   "source": []
  }
 ],
 "metadata": {
  "kernelspec": {
   "display_name": "Python 3",
   "language": "python",
   "name": "python3"
  },
  "language_info": {
   "codemirror_mode": {
    "name": "ipython",
    "version": 3
   },
   "file_extension": ".py",
   "mimetype": "text/x-python",
   "name": "python",
   "nbconvert_exporter": "python",
   "pygments_lexer": "ipython3",
   "version": "3.9.10"
  }
 },
 "nbformat": 4,
 "nbformat_minor": 2
}
