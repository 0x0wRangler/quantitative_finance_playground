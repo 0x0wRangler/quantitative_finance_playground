{
 "cells": [
  {
   "cell_type": "markdown",
   "metadata": {},
   "source": [
    "This notebook has been used to produce plots for my article on the relaxing of linear regression assumptions under the Roll model [(find it here)](https://medium.com/@lu.battistoni/relaxing-linear-regression-assumptions-a-roll-model-application-59e310dde6ce)\n",
    "\n",
    "*I sadly forgot to set a seed when generating the plots for the article, so my plots here are slightly different*"
   ]
  },
  {
   "cell_type": "code",
   "execution_count": 73,
   "metadata": {},
   "outputs": [],
   "source": [
    "# imports\n",
    "import pandas as pd\n",
    "import numpy as np\n",
    "\n",
    "import statsmodels.api as sm\n",
    "import matplotlib.pyplot as plt\n",
    "from scipy.stats import pearsonr"
   ]
  },
  {
   "cell_type": "code",
   "execution_count": 74,
   "metadata": {},
   "outputs": [],
   "source": [
    "def generate_correlated_normals(mean1, std1, mean2, std2, correlation, size=1):\n",
    "    \"\"\"\n",
    "    Generate correlated normal random variables.\n",
    "\n",
    "    Parameters:\n",
    "    - mean1 (float): Mean of the first normal distribution.\n",
    "    - std1 (float): Standard deviation of the first normal distribution.\n",
    "    - mean2 (float): Mean of the second normal distribution.\n",
    "    - std2 (float): Standard deviation of the second normal distribution.\n",
    "    - correlation (float): Correlation coefficient between the two normal distributions.\n",
    "    - size (int, optional): Number of samples to generate. Default is 1.\n",
    "\n",
    "    Returns:\n",
    "    - tuple: A tuple containing two arrays of correlated normal random variables.\n",
    "    \"\"\"\n",
    "    # Calculate the covariance matrix\n",
    "    cov_matrix = np.array([[std1**2, correlation * std1 * std2],\n",
    "                           [correlation * std1 * std2, std2**2]])\n",
    "    # Set the means\n",
    "    mean = [mean1, mean2]\n",
    "    # Generate correlated normal random variables\n",
    "    correlated_normals = np.random.multivariate_normal(mean, cov_matrix, size=size).T\n",
    "    # Return the arrays of correlated normal random variables\n",
    "    return correlated_normals[0], correlated_normals[1]\n",
    "\n",
    "\n",
    "def AR1_process_roll_model(phi, sigma_v, T):\n",
    "    \"\"\"\n",
    "    Generate a path of an autoregressive process of order 1 (AR(1)).\n",
    "    This is under the Roll Model assumptions, so the values of the\n",
    "    process can either be -1 or 1.\n",
    "    \n",
    "    Parameters:\n",
    "    - phi (float): The autoregressive parameter.\n",
    "    - sigma_v (float): The standard deviation of the white noise.\n",
    "    - T (int): The number of time steps.\n",
    "    \n",
    "    Returns:\n",
    "    - numpy.ndarray: An array containing the generated path.\n",
    "    \"\"\"\n",
    "    # Initialize an array to store the path\n",
    "    path = np.zeros(T)\n",
    "\n",
    "    # Generate the first value of the path\n",
    "    path[0] = np.sign(np.random.uniform(-1, 1))\n",
    "    \n",
    "    # Generate the remaining values of the path\n",
    "    for t in range(1, T):\n",
    "        # Generate the white noise term\n",
    "        v_t = np.random.normal(loc=0, scale=sigma_v)\n",
    "        \n",
    "        # Calculate the value of the AR(1) process\n",
    "        value = phi * path[t-1] + v_t\n",
    "        \n",
    "        # Take the sign of the value to get +1 or -1\n",
    "        path[t] = np.sign(value)\n",
    "\n",
    "    return path\n",
    "\n",
    "\n",
    "def generate_binary_correlated_variables(corr, size, err):\n",
    "    \"\"\"\n",
    "    Generate binary correlated variables with a specified correlation coefficient.\n",
    "\n",
    "    Parameters:\n",
    "    - corr (float): Desired correlation coefficient between the two variables.\n",
    "    - size (int): Number of samples to generate.\n",
    "    - err (float): Maximum allowable error in correlation coefficient.\n",
    "\n",
    "    Returns:\n",
    "    - tuple: A tuple containing two arrays of binary correlated variables.\n",
    "    \"\"\"\n",
    "    # Generate the first binary variable\n",
    "    x = np.sign(np.random.normal(0, 1, size=size))\n",
    "    \n",
    "    # Introduce a shift in x to create correlation with y\n",
    "    x_shifted = np.roll(x, 1)\n",
    "    x_shifted[0] = 1\n",
    "    \n",
    "    # Adjust the variables until the desired correlation is achieved within the specified error\n",
    "    # This code is not particularly efficient, but this is out of our notebook scope\n",
    "    while abs(np.corrcoef(x, x_shifted)[0, 1] - corr) > err:\n",
    "        # Generate a new set of random variables\n",
    "        x = np.sign(np.random.normal(0, 1, size=size))\n",
    "        x_shifted = np.roll(x, 1)\n",
    "        x_shifted[0] = 1\n",
    "    \n",
    "    return x, x_shifted"
   ]
  },
  {
   "cell_type": "code",
   "execution_count": 75,
   "metadata": {},
   "outputs": [],
   "source": [
    "# parameters\n",
    "size = 2000 # number of datapoints\n",
    "c = 0.8\n",
    "sigma_v = 1.0\n",
    "sigma_u = 1.0"
   ]
  },
  {
   "cell_type": "markdown",
   "metadata": {},
   "source": [
    "OLS Regression Results of non correlated processes - Estimation of Roll model parameter"
   ]
  },
  {
   "cell_type": "code",
   "execution_count": 76,
   "metadata": {},
   "outputs": [
    {
     "name": "stdout",
     "output_type": "stream",
     "text": [
      "                            OLS Regression Results                            \n",
      "==============================================================================\n",
      "Dep. Variable:              delta_p_t   R-squared:                       0.570\n",
      "Model:                            OLS   Adj. R-squared:                  0.570\n",
      "Method:                 Least Squares   F-statistic:                     2647.\n",
      "Date:                Mon, 29 Apr 2024   Prob (F-statistic):               0.00\n",
      "Time:                        22:46:52   Log-Likelihood:                -2842.0\n",
      "No. Observations:                2000   AIC:                             5688.\n",
      "Df Residuals:                    1998   BIC:                             5699.\n",
      "Df Model:                           1                                         \n",
      "Covariance Type:            nonrobust                                         \n",
      "==============================================================================\n",
      "                 coef    std err          t      P>|t|      [0.025      0.975]\n",
      "------------------------------------------------------------------------------\n",
      "const          0.0179      0.022      0.796      0.426      -0.026       0.062\n",
      "delta_q_t      0.8156      0.016     51.450      0.000       0.785       0.847\n",
      "==============================================================================\n",
      "Omnibus:                        8.251   Durbin-Watson:                   1.979\n",
      "Prob(Omnibus):                  0.016   Jarque-Bera (JB):                6.496\n",
      "Skew:                          -0.031   Prob(JB):                       0.0389\n",
      "Kurtosis:                       2.728   Cond. No.                         1.41\n",
      "==============================================================================\n",
      "\n",
      "Notes:\n",
      "[1] Standard Errors assume that the covariance matrix of the errors is correctly specified.\n"
     ]
    },
    {
     "data": {
      "image/png": "[encoded data removed]",
      "text/plain": [
       "<Figure size 432x288 with 1 Axes>"
      ]
     },
     "metadata": {
      "needs_background": "light"
     },
     "output_type": "display_data"
    }
   ],
   "source": [
    "phi = 0  # AR(1) coefficient\n",
    "\n",
    "# noise term\n",
    "u_t = np.random.normal(loc=0, scale=sigma_u, size=size)\n",
    "\n",
    "# AR(1) process for transactions direction\n",
    "q_t = AR1_process_roll_model(phi, sigma_v, size)\n",
    "\n",
    "# write everything in a dataframe for better readability\n",
    "df = pd.DataFrame({'q_t': q_t, 'u_t': u_t})\n",
    "df['q_t-1'] = df['q_t'].shift()\n",
    "\n",
    "# let's assume that the first transaction is a buy\n",
    "df = df.fillna(1)\n",
    "\n",
    "# difference in subsequent transactions directions\n",
    "df['delta_q_t'] = df['q_t'] - df['q_t-1']\n",
    "\n",
    "# difference in subsequent transaction prices\n",
    "df['delta_p_t'] = c * df['delta_q_t'] + df['u_t']\n",
    "\n",
    "# plot\n",
    "fig = plt.figure()\n",
    "df['delta_p_t'].hist()\n",
    "plt.title('delta p_t histogram - not correlated processes')\n",
    "\n",
    "x = sm.add_constant(df['delta_q_t'])\n",
    "\n",
    "# Fit OLS model\n",
    "model = sm.OLS(df['delta_p_t'], x).fit()\n",
    "\n",
    "# Print model summary\n",
    "print(model.summary())"
   ]
  },
  {
   "cell_type": "code",
   "execution_count": 77,
   "metadata": {},
   "outputs": [
    {
     "name": "stdout",
     "output_type": "stream",
     "text": [
      "Simulated estimate for c = 0.8156\n",
      "Theoretical estimate for c = 0.8\n"
     ]
    }
   ],
   "source": [
    "print(f\"Simulated estimate for c = {round(model.params['delta_q_t'], 4)}\")\n",
    "print(f\"Theoretical estimate for c = {c}\")"
   ]
  },
  {
   "cell_type": "code",
   "execution_count": 78,
   "metadata": {},
   "outputs": [
    {
     "name": "stdout",
     "output_type": "stream",
     "text": [
      "The variance of the simulated process is 2.3358\n",
      "The theoretical variance is 2.28\n"
     ]
    }
   ],
   "source": [
    "print(f\"The variance of the simulated process is {round(df['delta_p_t'].var(), 4)}\")\n",
    "print(f\"The theoretical variance is {round(1 + 2*(c**2), 4)}\")"
   ]
  },
  {
   "cell_type": "markdown",
   "metadata": {},
   "source": [
    "Violation of no autocorrelation assumption"
   ]
  },
  {
   "cell_type": "code",
   "execution_count": 79,
   "metadata": {},
   "outputs": [
    {
     "name": "stdout",
     "output_type": "stream",
     "text": [
      "Empirical correlation between q_t and q_t-1: 0.04995344771893839\n",
      "                            OLS Regression Results                            \n",
      "==============================================================================\n",
      "Dep. Variable:              delta_p_t   R-squared:                       0.535\n",
      "Model:                            OLS   Adj. R-squared:                  0.535\n",
      "Method:                 Least Squares   F-statistic:                     2301.\n",
      "Date:                Mon, 29 Apr 2024   Prob (F-statistic):               0.00\n",
      "Time:                        22:46:53   Log-Likelihood:                -2840.5\n",
      "No. Observations:                2000   AIC:                             5685.\n",
      "Df Residuals:                    1998   BIC:                             5696.\n",
      "Df Model:                           1                                         \n",
      "Covariance Type:            nonrobust                                         \n",
      "==============================================================================\n",
      "                 coef    std err          t      P>|t|      [0.025      0.975]\n",
      "------------------------------------------------------------------------------\n",
      "const          0.0295      0.022      1.315      0.189      -0.014       0.073\n",
      "delta_q_t      0.7795      0.016     47.966      0.000       0.748       0.811\n",
      "==============================================================================\n",
      "Omnibus:                        3.008   Durbin-Watson:                   1.956\n",
      "Prob(Omnibus):                  0.222   Jarque-Bera (JB):                3.055\n",
      "Skew:                           0.093   Prob(JB):                        0.217\n",
      "Kurtosis:                       2.951   Cond. No.                         1.38\n",
      "==============================================================================\n",
      "\n",
      "Notes:\n",
      "[1] Standard Errors assume that the covariance matrix of the errors is correctly specified.\n"
     ]
    },
    {
     "data": {
      "image/png": "[encoded data removed]",
      "text/plain": [
       "<Figure size 432x288 with 1 Axes>"
      ]
     },
     "metadata": {
      "needs_background": "light"
     },
     "output_type": "display_data"
    }
   ],
   "source": [
    "# Wanted correlation\n",
    "phi = 0.05\n",
    "err = 0.0001 # earling stopping condition\n",
    "\n",
    "# Generate autocorrelated variables with correlation phi\n",
    "q_t, q_t_1 = generate_binary_correlated_variables(phi, size, err)\n",
    "\n",
    "# Empirical correlation\n",
    "empirical_corr = np.corrcoef(q_t, q_t_1)[0, 1]\n",
    "print(\"Empirical correlation between q_t and q_t-1:\", empirical_corr)\n",
    "\n",
    "# simulate the process\n",
    "u_t = np.random.normal(loc=0, scale=sigma_u, size=size)\n",
    "df = pd.DataFrame({'q_t': q_t, 'q_t-1': q_t_1, 'u_t': u_t})\n",
    "df['delta_q_t'] = df['q_t'] - df['q_t-1']\n",
    "df['delta_p_t'] = c * df['delta_q_t'] + df['u_t']\n",
    "\n",
    "# plot\n",
    "fig = plt.figure()\n",
    "df['delta_p_t'].hist()\n",
    "plt.title('delta p_t histogram - p_t and p_t-1 correlated')\n",
    "\n",
    "x = sm.add_constant(df['delta_q_t'])\n",
    "\n",
    "# Fit OLS model\n",
    "model = sm.OLS(df['delta_p_t'], x).fit()\n",
    "\n",
    "# Print model summary\n",
    "print(model.summary())"
   ]
  },
  {
   "cell_type": "code",
   "execution_count": 80,
   "metadata": {},
   "outputs": [
    {
     "name": "stdout",
     "output_type": "stream",
     "text": [
      "Simulated estimate for c hat = 0.7795\n",
      "Theoretical estimate for c hat = 0.7589\n"
     ]
    }
   ],
   "source": [
    "print(f\"Simulated estimate for c hat = {round(model.params['delta_q_t'], 4)}\")\n",
    "print(f\"Theoretical estimate for c hat = {round(c * np.sqrt(1 - 2*phi), 4)}\")"
   ]
  },
  {
   "cell_type": "code",
   "execution_count": 81,
   "metadata": {},
   "outputs": [
    {
     "name": "stdout",
     "output_type": "stream",
     "text": [
      "The variance of the simulated process is 2.1583\n",
      "The theoretical variance is 2.216\n"
     ]
    }
   ],
   "source": [
    "print(f\"The variance of the simulated process is {round(df['delta_p_t'].var(), 4)}\")\n",
    "print(f\"The theoretical variance is {round(1 + 2*c*c*(1-phi), 4)}\")"
   ]
  },
  {
   "cell_type": "code",
   "execution_count": 82,
   "metadata": {},
   "outputs": [
    {
     "name": "stdout",
     "output_type": "stream",
     "text": [
      "The Durbin Watson statistics is 1.898\n"
     ]
    }
   ],
   "source": [
    "print(f\"The Durbin Watson statistics is {round(sm.stats.stattools.durbin_watson(q_t), 4)}\")"
   ]
  },
  {
   "cell_type": "markdown",
   "metadata": {},
   "source": [
    "Violation of error and independent variable independency"
   ]
  },
  {
   "cell_type": "code",
   "execution_count": 83,
   "metadata": {},
   "outputs": [
    {
     "name": "stdout",
     "output_type": "stream",
     "text": [
      "                            OLS Regression Results                            \n",
      "==============================================================================\n",
      "Dep. Variable:              delta_p_t   R-squared:                       0.774\n",
      "Model:                            OLS   Adj. R-squared:                  0.774\n",
      "Method:                 Least Squares   F-statistic:                     6834.\n",
      "Date:                Mon, 29 Apr 2024   Prob (F-statistic):               0.00\n",
      "Time:                        22:46:54   Log-Likelihood:                -2661.5\n",
      "No. Observations:                2000   AIC:                             5327.\n",
      "Df Residuals:                    1998   BIC:                             5338.\n",
      "Df Model:                           1                                         \n",
      "Covariance Type:            nonrobust                                         \n",
      "==============================================================================\n",
      "                 coef    std err          t      P>|t|      [0.025      0.975]\n",
      "------------------------------------------------------------------------------\n",
      "const         -0.0042      0.020     -0.203      0.839      -0.044       0.036\n",
      "delta_q_t      0.9947      0.012     82.670      0.000       0.971       1.018\n",
      "==============================================================================\n",
      "Omnibus:                        3.664   Durbin-Watson:                   1.743\n",
      "Prob(Omnibus):                  0.160   Jarque-Bera (JB):                3.216\n",
      "Skew:                          -0.013   Prob(JB):                        0.200\n",
      "Kurtosis:                       2.805   Cond. No.                         1.70\n",
      "==============================================================================\n",
      "\n",
      "Notes:\n",
      "[1] Standard Errors assume that the covariance matrix of the errors is correctly specified.\n"
     ]
    },
    {
     "data": {
      "image/png": "[encoded data removed]",
      "text/plain": [
       "<Figure size 432x288 with 1 Axes>"
      ]
     },
     "metadata": {
      "needs_background": "light"
     },
     "output_type": "display_data"
    }
   ],
   "source": [
    "# Parameters of two normals\n",
    "mean1 = 0\n",
    "std1 = 1\n",
    "mean2 = 0\n",
    "std2 = 1\n",
    "correlation = 0.5 # given correlation between distributions\n",
    "\n",
    "path = np.zeros(size)\n",
    "\n",
    "# Generate two correlated normals\n",
    "q_t, u_t = generate_correlated_normals(mean1, std1, mean2, std2, correlation, size)\n",
    "\n",
    "# generate process paths with correlated normal random variables\n",
    "# this is as before, but with the difference that we generated correlated random variables\n",
    "path[0] = np.sign(np.random.uniform(-1,1))\n",
    "for t in range(1, size):\n",
    "    value = q_t[t] - path[t-1] + u_t[t]\n",
    "    path[t] = np.sign(value)\n",
    "    \n",
    "df = pd.DataFrame({'q_t': path, 'u_t': u_t})\n",
    "df['q_t-1'] = df['q_t'].shift()\n",
    "df = df.fillna(1)\n",
    "df['delta_q_t'] = df['q_t'] - df['q_t-1']\n",
    "df['delta_p_t'] = c * df['delta_q_t'] + df['u_t']\n",
    "\n",
    "# plot\n",
    "fig = plt.figure()\n",
    "df['delta_p_t'].hist()\n",
    "plt.title('delta p_t histogram - q_t and u_t correlated')\n",
    "\n",
    "x = sm.add_constant(df['delta_q_t'])\n",
    "\n",
    "# Fit OLS model\n",
    "model = sm.OLS(df['delta_p_t'], x).fit()\n",
    "\n",
    "# Print model summary\n",
    "print(model.summary())"
   ]
  },
  {
   "cell_type": "code",
   "execution_count": 84,
   "metadata": {},
   "outputs": [
    {
     "name": "stdout",
     "output_type": "stream",
     "text": [
      "Simulated estimate for c hat = 0.9947\n",
      "Theoretical estimate for c hat = 1.0198\n"
     ]
    }
   ],
   "source": [
    "print(f\"Simulated estimate for c hat = {round(model.params['delta_q_t'], 4)}\")\n",
    "print(f\"Theoretical estimate for c hat = {round(np.sqrt(c * (correlation + c)), 4)}\")"
   ]
  },
  {
   "cell_type": "code",
   "execution_count": 85,
   "metadata": {},
   "outputs": [
    {
     "name": "stdout",
     "output_type": "stream",
     "text": [
      "The variance of the simulated process is 3.7076\n",
      "The theoretical variance is 3.08\n"
     ]
    }
   ],
   "source": [
    "print(f\"The variance of the simulated process is {round(df['delta_p_t'].var(), 4)}\")\n",
    "print(f\"The theoretical variance is {round(2*c*c + 1 + 2*c*correlation*1, 4)}\")"
   ]
  },
  {
   "cell_type": "code",
   "execution_count": 86,
   "metadata": {},
   "outputs": [
    {
     "name": "stdout",
     "output_type": "stream",
     "text": [
      "Correlation between independent variable and residuals: 0.5827\n",
      "Correlation test p-value: 0.0\n"
     ]
    }
   ],
   "source": [
    "corr, p_value = pearsonr(df['q_t'], df['u_t'])\n",
    "print(f\"Correlation between independent variable and residuals: {round(corr, 4)}\")\n",
    "print(f\"Correlation test p-value: {round(p_value, 4)}\")"
   ]
  },
  {
   "cell_type": "code",
   "execution_count": null,
   "metadata": {},
   "outputs": [],
   "source": []
  }
 ],
 "metadata": {
  "kernelspec": {
   "display_name": "Python 3",
   "language": "python",
   "name": "python3"
  },
  "language_info": {
   "codemirror_mode": {
    "name": "ipython",
    "version": 3
   },
   "file_extension": ".py",
   "mimetype": "text/x-python",
   "name": "python",
   "nbconvert_exporter": "python",
   "pygments_lexer": "ipython3",
   "version": "3.9.10"
  }
 },
 "nbformat": 4,
 "nbformat_minor": 2
}
